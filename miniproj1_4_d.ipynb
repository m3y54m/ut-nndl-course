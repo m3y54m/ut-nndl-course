{
  "nbformat": 4,
  "nbformat_minor": 0,
  "metadata": {
    "colab": {
      "name": "miniproj1-4-d.ipynb",
      "version": "0.3.2",
      "provenance": [],
      "collapsed_sections": [],
      "include_colab_link": true
    },
    "kernelspec": {
      "name": "python3",
      "display_name": "Python 3"
    },
    "accelerator": "GPU"
  },
  "cells": [
    {
      "cell_type": "markdown",
      "metadata": {
        "id": "view-in-github",
        "colab_type": "text"
      },
      "source": [
        "<a href=\"https://colab.research.google.com/github/m3y54m/ut-nndl-course/blob/master/miniproj1_4_d.ipynb\" target=\"_parent\"><img src=\"https://colab.research.google.com/assets/colab-badge.svg\" alt=\"Open In Colab\"/></a>"
      ]
    },
    {
      "metadata": {
        "id": "uBL6ftlEsPD7",
        "colab_type": "code",
        "outputId": "16513304-8e67-4a70-8065-e0f3ee07c2d9",
        "colab": {
          "base_uri": "https://localhost:8080/",
          "height": 51
        }
      },
      "cell_type": "code",
      "source": [
        "import numpy as np\n",
        "import matplotlib.pyplot as plt\n",
        "import tensorflow as tf\n",
        "\n",
        "from tensorflow.keras.models import Sequential\n",
        "from tensorflow.keras.layers import Dense, Dropout, Flatten, Conv2D, MaxPooling2D \n",
        "\n",
        "from tensorflow.keras.datasets import cifar10\n",
        "from tensorflow.keras.preprocessing.image import ImageDataGenerator\n",
        "\n",
        "import os\n",
        "\n",
        "print(tf.VERSION)\n",
        "print(tf.keras.__version__)"
      ],
      "execution_count": 0,
      "outputs": [
        {
          "output_type": "stream",
          "text": [
            "1.12.0\n",
            "2.1.6-tf\n"
          ],
          "name": "stdout"
        }
      ]
    },
    {
      "metadata": {
        "id": "-Dgr5TGesPEN",
        "colab_type": "code",
        "outputId": "1f8640cf-7f00-4754-a363-a81a3a279d6d",
        "colab": {
          "base_uri": "https://localhost:8080/",
          "height": 34
        }
      },
      "cell_type": "code",
      "source": [
        "# The data, split between train and test sets:\n",
        "(x_train, y_train), (x_test, y_test) = cifar10.load_data()\n",
        "print('x_train shape:', x_train.shape)"
      ],
      "execution_count": 0,
      "outputs": [
        {
          "output_type": "stream",
          "text": [
            "x_train shape: (50000, 32, 32, 3)\n"
          ],
          "name": "stdout"
        }
      ]
    },
    {
      "metadata": {
        "id": "sfOy0JehsPEI",
        "colab_type": "code",
        "outputId": "aab24437-a6c5-4169-d35e-2f6ff4a73137",
        "colab": {
          "base_uri": "https://localhost:8080/",
          "height": 51
        }
      },
      "cell_type": "code",
      "source": [
        "trainset_size = x_train.shape[0]\n",
        "testset_size = x_test.shape[0]\n",
        "batch_size = 100\n",
        "steps_per_epoch = np.ceil(trainset_size / batch_size).astype('int')\n",
        "num_classes = 10\n",
        "epochs = 10\n",
        "# input shape: (32, 32, 3)\n",
        "input_shape = x_train.shape[1:]\n",
        "\n",
        "data_augmentation = False\n",
        "#num_predictions = 20\n",
        "\n",
        "print(trainset_size, 'train samples')\n",
        "print(testset_size, 'test samples')"
      ],
      "execution_count": 0,
      "outputs": [
        {
          "output_type": "stream",
          "text": [
            "50000 train samples\n",
            "10000 test samples\n"
          ],
          "name": "stdout"
        }
      ]
    },
    {
      "metadata": {
        "id": "l2lnMZkIsPER",
        "colab_type": "code",
        "colab": {}
      },
      "cell_type": "code",
      "source": [
        "# Convert class vectors to binary (one-hot) class matrices.\n",
        "y_train = tf.keras.utils.to_categorical(y_train, num_classes)\n",
        "y_test = tf.keras.utils.to_categorical(y_test, num_classes)\n",
        "\n",
        "# Normalize input numbers\n",
        "x_train = x_train.astype('float32')\n",
        "x_test = x_test.astype('float32')\n",
        "x_train /= 255\n",
        "x_test /= 255"
      ],
      "execution_count": 0,
      "outputs": []
    },
    {
      "metadata": {
        "id": "80-OVycBsPEU",
        "colab_type": "code",
        "outputId": "c15efa0f-13f4-419a-b8d6-a7e7139dcf3a",
        "colab": {
          "base_uri": "https://localhost:8080/",
          "height": 799
        }
      },
      "cell_type": "code",
      "source": [
        "tf.keras.backend.clear_session()\n",
        "\n",
        "model = Sequential()\n",
        "\n",
        "model.add(Conv2D(32, (3, 3), strides=(1, 1), padding='same', activation='relu', input_shape=input_shape))\n",
        "model.add(MaxPooling2D(pool_size=(2, 2)))\n",
        "#model.add(Dropout(0.25))\n",
        "model.add(Conv2D(64, (3, 3), strides=(1, 1), padding='same', activation='relu'))\n",
        "model.add(MaxPooling2D(pool_size=(2, 2)))\n",
        "#model.add(Dropout(0.25))\n",
        "model.add(Conv2D(128, (3, 3), strides=(1, 1), padding='same', activation='relu'))\n",
        "model.add(MaxPooling2D(pool_size=(2, 2)))\n",
        "#model.add(Dropout(0.25))\n",
        "model.add(Flatten())\n",
        "model.add(Dense(256, activation='relu'))\n",
        "#model.add(Dropout(0.5))\n",
        "model.add(Dense(num_classes, activation='softmax'))\n",
        "\n",
        "model.summary()\n",
        "\n",
        "# Let's train the model using GradientDescentOptimizer\n",
        "model.compile(optimizer=tf.train.GradientDescentOptimizer(learning_rate=0.1),\n",
        "              loss='categorical_crossentropy',\n",
        "              metrics=['accuracy'])\n",
        "\n",
        "results_for_sgd = model.fit(x_train, y_train,\n",
        "                    batch_size=batch_size,\n",
        "                    epochs=epochs,\n",
        "                    validation_data=(x_test, y_test),\n",
        "                    shuffle=True)"
      ],
      "execution_count": 0,
      "outputs": [
        {
          "output_type": "stream",
          "text": [
            "_________________________________________________________________\n",
            "Layer (type)                 Output Shape              Param #   \n",
            "=================================================================\n",
            "conv2d (Conv2D)              (None, 32, 32, 32)        896       \n",
            "_________________________________________________________________\n",
            "max_pooling2d (MaxPooling2D) (None, 16, 16, 32)        0         \n",
            "_________________________________________________________________\n",
            "conv2d_1 (Conv2D)            (None, 16, 16, 64)        18496     \n",
            "_________________________________________________________________\n",
            "max_pooling2d_1 (MaxPooling2 (None, 8, 8, 64)          0         \n",
            "_________________________________________________________________\n",
            "conv2d_2 (Conv2D)            (None, 8, 8, 128)         73856     \n",
            "_________________________________________________________________\n",
            "max_pooling2d_2 (MaxPooling2 (None, 4, 4, 128)         0         \n",
            "_________________________________________________________________\n",
            "flatten (Flatten)            (None, 2048)              0         \n",
            "_________________________________________________________________\n",
            "dense (Dense)                (None, 256)               524544    \n",
            "_________________________________________________________________\n",
            "dense_1 (Dense)              (None, 10)                2570      \n",
            "=================================================================\n",
            "Total params: 620,362\n",
            "Trainable params: 620,362\n",
            "Non-trainable params: 0\n",
            "_________________________________________________________________\n",
            "Train on 50000 samples, validate on 10000 samples\n",
            "Epoch 1/10\n",
            "50000/50000 [==============================] - 9s 174us/step - loss: 1.9020 - acc: 0.3160 - val_loss: 1.4713 - val_acc: 0.4670\n",
            "Epoch 2/10\n",
            "50000/50000 [==============================] - 7s 137us/step - loss: 1.3905 - acc: 0.5004 - val_loss: 1.2337 - val_acc: 0.5675\n",
            "Epoch 3/10\n",
            "50000/50000 [==============================] - 7s 136us/step - loss: 1.1770 - acc: 0.5815 - val_loss: 1.2104 - val_acc: 0.5763\n",
            "Epoch 4/10\n",
            "50000/50000 [==============================] - 7s 137us/step - loss: 1.0166 - acc: 0.6404 - val_loss: 1.0126 - val_acc: 0.6467\n",
            "Epoch 5/10\n",
            "50000/50000 [==============================] - 7s 137us/step - loss: 0.8931 - acc: 0.6868 - val_loss: 0.9894 - val_acc: 0.6585\n",
            "Epoch 6/10\n",
            "50000/50000 [==============================] - 7s 136us/step - loss: 0.7904 - acc: 0.7243 - val_loss: 0.9833 - val_acc: 0.6585\n",
            "Epoch 7/10\n",
            "50000/50000 [==============================] - 7s 137us/step - loss: 0.7026 - acc: 0.7539 - val_loss: 0.9227 - val_acc: 0.6919\n",
            "Epoch 8/10\n",
            "50000/50000 [==============================] - 7s 137us/step - loss: 0.6112 - acc: 0.7868 - val_loss: 0.9485 - val_acc: 0.6837\n",
            "Epoch 9/10\n",
            "50000/50000 [==============================] - 7s 136us/step - loss: 0.5288 - acc: 0.8143 - val_loss: 0.9989 - val_acc: 0.6823\n",
            "Epoch 10/10\n",
            "50000/50000 [==============================] - 7s 136us/step - loss: 0.4533 - acc: 0.8410 - val_loss: 0.9029 - val_acc: 0.7173\n"
          ],
          "name": "stdout"
        }
      ]
    },
    {
      "metadata": {
        "id": "RPEdT88qcf84",
        "colab_type": "code",
        "outputId": "f1cf1536-b93c-4d73-c161-9a37d9d3273f",
        "colab": {
          "base_uri": "https://localhost:8080/",
          "height": 799
        }
      },
      "cell_type": "code",
      "source": [
        "tf.keras.backend.clear_session()\n",
        "\n",
        "model = Sequential()\n",
        "\n",
        "model.add(Conv2D(32, (3, 3), strides=(1, 1), padding='same', activation='relu', input_shape=input_shape))\n",
        "model.add(MaxPooling2D(pool_size=(2, 2)))\n",
        "#model.add(Dropout(0.25))\n",
        "model.add(Conv2D(64, (3, 3), strides=(1, 1), padding='same', activation='relu'))\n",
        "model.add(MaxPooling2D(pool_size=(2, 2)))\n",
        "#model.add(Dropout(0.25))\n",
        "model.add(Conv2D(128, (3, 3), strides=(1, 1), padding='same', activation='relu'))\n",
        "model.add(MaxPooling2D(pool_size=(2, 2)))\n",
        "#model.add(Dropout(0.25))\n",
        "model.add(Flatten())\n",
        "model.add(Dense(256, activation='relu'))\n",
        "#model.add(Dropout(0.5))\n",
        "model.add(Dense(num_classes, activation='softmax'))\n",
        "\n",
        "model.summary()\n",
        "\n",
        "# Let's train the model using AdamOptimizer\n",
        "model.compile(optimizer=tf.train.AdamOptimizer(0.001),\n",
        "              loss='categorical_crossentropy',\n",
        "              metrics=['accuracy'])\n",
        "\n",
        "results_for_adam = model.fit(x_train, y_train,\n",
        "                    batch_size=batch_size,\n",
        "                    epochs=epochs,\n",
        "                    validation_data=(x_test, y_test),\n",
        "                    shuffle=True)"
      ],
      "execution_count": 0,
      "outputs": [
        {
          "output_type": "stream",
          "text": [
            "_________________________________________________________________\n",
            "Layer (type)                 Output Shape              Param #   \n",
            "=================================================================\n",
            "conv2d (Conv2D)              (None, 32, 32, 32)        896       \n",
            "_________________________________________________________________\n",
            "max_pooling2d (MaxPooling2D) (None, 16, 16, 32)        0         \n",
            "_________________________________________________________________\n",
            "conv2d_1 (Conv2D)            (None, 16, 16, 64)        18496     \n",
            "_________________________________________________________________\n",
            "max_pooling2d_1 (MaxPooling2 (None, 8, 8, 64)          0         \n",
            "_________________________________________________________________\n",
            "conv2d_2 (Conv2D)            (None, 8, 8, 128)         73856     \n",
            "_________________________________________________________________\n",
            "max_pooling2d_2 (MaxPooling2 (None, 4, 4, 128)         0         \n",
            "_________________________________________________________________\n",
            "flatten (Flatten)            (None, 2048)              0         \n",
            "_________________________________________________________________\n",
            "dense (Dense)                (None, 256)               524544    \n",
            "_________________________________________________________________\n",
            "dense_1 (Dense)              (None, 10)                2570      \n",
            "=================================================================\n",
            "Total params: 620,362\n",
            "Trainable params: 620,362\n",
            "Non-trainable params: 0\n",
            "_________________________________________________________________\n",
            "Train on 50000 samples, validate on 10000 samples\n",
            "Epoch 1/10\n",
            "50000/50000 [==============================] - 8s 151us/step - loss: 1.4865 - acc: 0.4629 - val_loss: 1.1657 - val_acc: 0.5926\n",
            "Epoch 2/10\n",
            "50000/50000 [==============================] - 7s 144us/step - loss: 1.0542 - acc: 0.6292 - val_loss: 0.9910 - val_acc: 0.6514\n",
            "Epoch 3/10\n",
            "50000/50000 [==============================] - 7s 143us/step - loss: 0.8723 - acc: 0.6965 - val_loss: 0.8507 - val_acc: 0.7022\n",
            "Epoch 4/10\n",
            "50000/50000 [==============================] - 7s 143us/step - loss: 0.7607 - acc: 0.7362 - val_loss: 0.8063 - val_acc: 0.7193\n",
            "Epoch 5/10\n",
            "50000/50000 [==============================] - 7s 143us/step - loss: 0.6701 - acc: 0.7666 - val_loss: 0.7764 - val_acc: 0.7367\n",
            "Epoch 6/10\n",
            "50000/50000 [==============================] - 7s 144us/step - loss: 0.5966 - acc: 0.7930 - val_loss: 0.7971 - val_acc: 0.7355\n",
            "Epoch 7/10\n",
            "50000/50000 [==============================] - 7s 143us/step - loss: 0.5265 - acc: 0.8162 - val_loss: 0.7794 - val_acc: 0.7498\n",
            "Epoch 8/10\n",
            "50000/50000 [==============================] - 7s 143us/step - loss: 0.4534 - acc: 0.8414 - val_loss: 0.7333 - val_acc: 0.7605\n",
            "Epoch 9/10\n",
            "50000/50000 [==============================] - 7s 144us/step - loss: 0.3924 - acc: 0.8636 - val_loss: 0.7968 - val_acc: 0.7504\n",
            "Epoch 10/10\n",
            "50000/50000 [==============================] - 7s 144us/step - loss: 0.3352 - acc: 0.8814 - val_loss: 0.8260 - val_acc: 0.7498\n"
          ],
          "name": "stdout"
        }
      ]
    },
    {
      "metadata": {
        "id": "Ygwg_GETcOBx",
        "colab_type": "code",
        "outputId": "79e8fdd9-734f-416a-b869-115db097b063",
        "colab": {
          "base_uri": "https://localhost:8080/",
          "height": 416
        }
      },
      "cell_type": "code",
      "source": [
        "# Accuracy for Validation (Test) Dataset\n",
        "plt_val_acc_sgd = results_for_sgd .history[\"val_acc\"]\n",
        "plt_val_acc_adam = results_for_adam.history[\"val_acc\"]\n",
        "num_epochs = len(plt_val_acc_sgd)\n",
        "plt_epoch = np.arange(1, num_epochs+1, 1, dtype=int)\n",
        "# Plot Accuracy\n",
        "plt.figure(1, figsize=(10, 6))\n",
        "plt.plot(plt_epoch, plt_val_acc_sgd, color='c', linewidth=4, label='Gradient Descent')\n",
        "plt.plot(plt_epoch, plt_val_acc_adam, color='m', linewidth=4, label='Adam')\n",
        "plt.xlim(1, num_epochs)\n",
        "plt.xticks(plt_epoch)\n",
        "plt.title('Accuracy of Test Dataset for Different Optimization Algorithms', fontsize=18)\n",
        "plt.legend(loc='best', fontsize=15)\n",
        "plt.xlabel(r'$Epochs$', fontsize=15)\n",
        "plt.ylabel(r'$Accuracy$', fontsize=15)\n",
        "plt.grid(True)\n",
        "plt.show()"
      ],
      "execution_count": 0,
      "outputs": [
        {
          "output_type": "display_data",
          "data": {
            "image/png": "[encoded data removed]",
            "text/plain": [
              "<matplotlib.figure.Figure at 0x7fa41fe85be0>"
            ]
          },
          "metadata": {
            "tags": []
          }
        }
      ]
    }
  ]
}