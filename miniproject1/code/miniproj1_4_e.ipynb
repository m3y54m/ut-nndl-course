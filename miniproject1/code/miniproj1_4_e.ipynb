{
 "cells": [
  {
   "cell_type": "code",
   "execution_count": 0,
   "metadata": {
    "colab": {
     "base_uri": "https://localhost:8080/",
     "height": 51
    },
    "colab_type": "code",
    "id": "uBL6ftlEsPD7",
    "outputId": "54fd4547-2db7-4384-b11d-524324fbe54c"
   },
   "outputs": [
    {
     "name": "stdout",
     "output_type": "stream",
     "text": [
      "1.12.0\n",
      "2.1.6-tf\n"
     ]
    }
   ],
   "source": [
    "import numpy as np\n",
    "import matplotlib.pyplot as plt\n",
    "import tensorflow as tf\n",
    "\n",
    "from tensorflow.keras.models import Sequential\n",
    "from tensorflow.keras.layers import Dense, Dropout, Flatten, Conv2D, MaxPooling2D \n",
    "\n",
    "from tensorflow.keras.datasets import cifar10\n",
    "from tensorflow.keras.preprocessing.image import ImageDataGenerator\n",
    "\n",
    "import os\n",
    "\n",
    "print(tf.VERSION)\n",
    "print(tf.keras.__version__)"
   ]
  },
  {
   "cell_type": "code",
   "execution_count": 0,
   "metadata": {
    "colab": {
     "base_uri": "https://localhost:8080/",
     "height": 34
    },
    "colab_type": "code",
    "id": "-Dgr5TGesPEN",
    "outputId": "ccd2433e-be98-4173-9b0a-bb534b5b4a2c"
   },
   "outputs": [
    {
     "name": "stdout",
     "output_type": "stream",
     "text": [
      "x_train shape: (500, 32, 32, 3)\n"
     ]
    }
   ],
   "source": [
    "# The data, split between train and test sets:\n",
    "(x_train, y_train), (x_test, y_test) = cifar10.load_data()\n",
    "\n",
    "# Reduce size of dataset to 600 by extracting random values\n",
    "idx_train = np.random.choice(np.arange(x_train.shape[0]), size=500)\n",
    "idx_test = np.random.choice(np.arange(x_test.shape[0]), size=100)\n",
    "x_train = np.array([x_train[i] for i in idx_train])\n",
    "y_train = np.array([y_train[i] for i in idx_train])\n",
    "x_test = np.array([x_test[i] for i in idx_test])\n",
    "y_test = np.array([y_test[i] for i in idx_test])\n",
    "\n",
    "print('x_train shape:', x_train.shape)"
   ]
  },
  {
   "cell_type": "code",
   "execution_count": 0,
   "metadata": {
    "colab": {
     "base_uri": "https://localhost:8080/",
     "height": 51
    },
    "colab_type": "code",
    "id": "sfOy0JehsPEI",
    "outputId": "563708ad-70b0-487e-d3f8-903703f3f9e6"
   },
   "outputs": [
    {
     "name": "stdout",
     "output_type": "stream",
     "text": [
      "500 train samples\n",
      "100 test samples\n"
     ]
    }
   ],
   "source": [
    "trainset_size = x_train.shape[0]\n",
    "testset_size = x_test.shape[0]\n",
    "batch_size = 100\n",
    "steps_per_epoch = np.ceil(trainset_size / batch_size).astype('int')\n",
    "num_classes = 10\n",
    "epochs = 100\n",
    "# input shape: (32, 32, 3)\n",
    "input_shape = x_train.shape[1:]\n",
    "\n",
    "data_augmentation = False\n",
    "#num_predictions = 20\n",
    "\n",
    "print(trainset_size, 'train samples')\n",
    "print(testset_size, 'test samples')"
   ]
  },
  {
   "cell_type": "code",
   "execution_count": 0,
   "metadata": {
    "colab": {},
    "colab_type": "code",
    "id": "l2lnMZkIsPER"
   },
   "outputs": [],
   "source": [
    "# Convert class vectors to binary (one-hot) class matrices.\n",
    "y_train = tf.keras.utils.to_categorical(y_train, num_classes)\n",
    "y_test = tf.keras.utils.to_categorical(y_test, num_classes)"
   ]
  },
  {
   "cell_type": "code",
   "execution_count": 0,
   "metadata": {
    "colab": {
     "base_uri": "https://localhost:8080/",
     "height": 442
    },
    "colab_type": "code",
    "id": "80-OVycBsPEU",
    "outputId": "7e685e19-75a3-4c17-839c-2229cd643ab8"
   },
   "outputs": [
    {
     "name": "stdout",
     "output_type": "stream",
     "text": [
      "_________________________________________________________________\n",
      "Layer (type)                 Output Shape              Param #   \n",
      "=================================================================\n",
      "conv2d (Conv2D)              (None, 32, 32, 32)        896       \n",
      "_________________________________________________________________\n",
      "max_pooling2d (MaxPooling2D) (None, 16, 16, 32)        0         \n",
      "_________________________________________________________________\n",
      "conv2d_1 (Conv2D)            (None, 16, 16, 64)        18496     \n",
      "_________________________________________________________________\n",
      "max_pooling2d_1 (MaxPooling2 (None, 8, 8, 64)          0         \n",
      "_________________________________________________________________\n",
      "conv2d_2 (Conv2D)            (None, 8, 8, 128)         73856     \n",
      "_________________________________________________________________\n",
      "max_pooling2d_2 (MaxPooling2 (None, 4, 4, 128)         0         \n",
      "_________________________________________________________________\n",
      "flatten (Flatten)            (None, 2048)              0         \n",
      "_________________________________________________________________\n",
      "dense (Dense)                (None, 256)               524544    \n",
      "_________________________________________________________________\n",
      "dense_1 (Dense)              (None, 10)                2570      \n",
      "=================================================================\n",
      "Total params: 620,362\n",
      "Trainable params: 620,362\n",
      "Non-trainable params: 0\n",
      "_________________________________________________________________\n"
     ]
    }
   ],
   "source": [
    "tf.keras.backend.clear_session()\n",
    "\n",
    "model = Sequential()\n",
    "\n",
    "model.add(Conv2D(32, (3, 3), strides=(1, 1), padding='same', activation='relu', input_shape=input_shape))\n",
    "model.add(MaxPooling2D(pool_size=(2, 2)))\n",
    "#model.add(Dropout(0.25))\n",
    "model.add(Conv2D(64, (3, 3), strides=(1, 1), padding='same', activation='relu'))\n",
    "model.add(MaxPooling2D(pool_size=(2, 2)))\n",
    "#model.add(Dropout(0.25))\n",
    "model.add(Conv2D(128, (3, 3), strides=(1, 1), padding='same', activation='relu'))\n",
    "model.add(MaxPooling2D(pool_size=(2, 2)))\n",
    "#model.add(Dropout(0.25))\n",
    "model.add(Flatten())\n",
    "model.add(Dense(256, activation='relu'))\n",
    "#model.add(Dropout(0.5))\n",
    "model.add(Dense(num_classes, activation='softmax'))\n",
    "\n",
    "model.summary()"
   ]
  },
  {
   "cell_type": "code",
   "execution_count": 0,
   "metadata": {
    "colab": {},
    "colab_type": "code",
    "id": "Rvt-3B1wsPEZ"
   },
   "outputs": [],
   "source": [
    "# initiate RMSprop optimizer\n",
    "#opt = tf.keras.optimizers.RMSprop(lr=0.0001, decay=1e-6)"
   ]
  },
  {
   "cell_type": "code",
   "execution_count": 0,
   "metadata": {
    "colab": {},
    "colab_type": "code",
    "id": "5xjHL4FOsPEc"
   },
   "outputs": [],
   "source": [
    "# Let's train the model using AdamOptimizer\n",
    "model.compile(optimizer=tf.train.AdamOptimizer(0.001),\n",
    "              loss='categorical_crossentropy',\n",
    "              metrics=['accuracy'])"
   ]
  },
  {
   "cell_type": "code",
   "execution_count": 0,
   "metadata": {
    "colab": {},
    "colab_type": "code",
    "id": "SUc3ZGPdsPEf"
   },
   "outputs": [],
   "source": [
    "# Normalize input numbers\n",
    "x_train = x_train.astype('float32')\n",
    "x_test = x_test.astype('float32')\n",
    "x_train /= 255\n",
    "x_test /= 255"
   ]
  },
  {
   "cell_type": "code",
   "execution_count": 0,
   "metadata": {
    "colab": {
     "base_uri": "https://localhost:8080/",
     "height": 3434
    },
    "colab_type": "code",
    "id": "LrFv6AebsPEj",
    "outputId": "d6d08dc8-1b99-4f60-c288-c63852cbd33b"
   },
   "outputs": [
    {
     "name": "stdout",
     "output_type": "stream",
     "text": [
      "Train on 500 samples, validate on 100 samples\n",
      "Epoch 1/100\n",
      "500/500 [==============================] - 2s 4ms/step - loss: 2.3056 - acc: 0.1200 - val_loss: 2.3002 - val_acc: 0.1000\n",
      "Epoch 2/100\n",
      "500/500 [==============================] - 0s 171us/step - loss: 2.2670 - acc: 0.1980 - val_loss: 2.2521 - val_acc: 0.1300\n",
      "Epoch 3/100\n",
      "500/500 [==============================] - 0s 165us/step - loss: 2.1810 - acc: 0.2560 - val_loss: 2.1245 - val_acc: 0.2600\n",
      "Epoch 4/100\n",
      "500/500 [==============================] - 0s 153us/step - loss: 2.0373 - acc: 0.2840 - val_loss: 1.9857 - val_acc: 0.2700\n",
      "Epoch 5/100\n",
      "500/500 [==============================] - 0s 151us/step - loss: 1.9130 - acc: 0.3020 - val_loss: 1.8870 - val_acc: 0.3300\n",
      "Epoch 6/100\n",
      "500/500 [==============================] - 0s 147us/step - loss: 1.8225 - acc: 0.3520 - val_loss: 1.9399 - val_acc: 0.2600\n",
      "Epoch 7/100\n",
      "500/500 [==============================] - 0s 146us/step - loss: 1.8518 - acc: 0.3260 - val_loss: 1.8288 - val_acc: 0.4100\n",
      "Epoch 8/100\n",
      "500/500 [==============================] - 0s 147us/step - loss: 1.7612 - acc: 0.3600 - val_loss: 1.8034 - val_acc: 0.3700\n",
      "Epoch 9/100\n",
      "500/500 [==============================] - 0s 153us/step - loss: 1.6685 - acc: 0.3860 - val_loss: 1.9044 - val_acc: 0.3300\n",
      "Epoch 10/100\n",
      "500/500 [==============================] - 0s 141us/step - loss: 1.6065 - acc: 0.4520 - val_loss: 1.7908 - val_acc: 0.3800\n",
      "Epoch 11/100\n",
      "500/500 [==============================] - 0s 143us/step - loss: 1.5342 - acc: 0.4640 - val_loss: 1.7843 - val_acc: 0.4000\n",
      "Epoch 12/100\n",
      "500/500 [==============================] - 0s 142us/step - loss: 1.4546 - acc: 0.4920 - val_loss: 1.7744 - val_acc: 0.4200\n",
      "Epoch 13/100\n",
      "500/500 [==============================] - 0s 141us/step - loss: 1.4278 - acc: 0.4840 - val_loss: 1.7147 - val_acc: 0.3800\n",
      "Epoch 14/100\n",
      "500/500 [==============================] - 0s 140us/step - loss: 1.3688 - acc: 0.5500 - val_loss: 1.8560 - val_acc: 0.3600\n",
      "Epoch 15/100\n",
      "500/500 [==============================] - 0s 138us/step - loss: 1.3183 - acc: 0.5420 - val_loss: 1.7303 - val_acc: 0.3900\n",
      "Epoch 16/100\n",
      "500/500 [==============================] - 0s 138us/step - loss: 1.2415 - acc: 0.5860 - val_loss: 1.8009 - val_acc: 0.4800\n",
      "Epoch 17/100\n",
      "500/500 [==============================] - 0s 136us/step - loss: 1.1660 - acc: 0.6220 - val_loss: 1.9238 - val_acc: 0.4200\n",
      "Epoch 18/100\n",
      "500/500 [==============================] - 0s 137us/step - loss: 1.1451 - acc: 0.6240 - val_loss: 1.7985 - val_acc: 0.4400\n",
      "Epoch 19/100\n",
      "500/500 [==============================] - 0s 134us/step - loss: 1.0703 - acc: 0.6460 - val_loss: 1.7988 - val_acc: 0.3700\n",
      "Epoch 20/100\n",
      "500/500 [==============================] - 0s 129us/step - loss: 0.9590 - acc: 0.6640 - val_loss: 1.7052 - val_acc: 0.4400\n",
      "Epoch 21/100\n",
      "500/500 [==============================] - 0s 129us/step - loss: 0.8899 - acc: 0.7200 - val_loss: 1.7856 - val_acc: 0.4000\n",
      "Epoch 22/100\n",
      "500/500 [==============================] - 0s 133us/step - loss: 0.8163 - acc: 0.7420 - val_loss: 1.6524 - val_acc: 0.4400\n",
      "Epoch 23/100\n",
      "500/500 [==============================] - 0s 153us/step - loss: 0.7809 - acc: 0.7520 - val_loss: 1.7834 - val_acc: 0.4400\n",
      "Epoch 24/100\n",
      "500/500 [==============================] - 0s 141us/step - loss: 0.7241 - acc: 0.7740 - val_loss: 1.6008 - val_acc: 0.4600\n",
      "Epoch 25/100\n",
      "500/500 [==============================] - 0s 131us/step - loss: 0.6550 - acc: 0.8180 - val_loss: 1.9042 - val_acc: 0.4400\n",
      "Epoch 26/100\n",
      "500/500 [==============================] - 0s 126us/step - loss: 0.6044 - acc: 0.8220 - val_loss: 2.0607 - val_acc: 0.4100\n",
      "Epoch 27/100\n",
      "500/500 [==============================] - 0s 137us/step - loss: 0.5411 - acc: 0.8580 - val_loss: 1.9450 - val_acc: 0.3700\n",
      "Epoch 28/100\n",
      "500/500 [==============================] - 0s 132us/step - loss: 0.5156 - acc: 0.8400 - val_loss: 1.7050 - val_acc: 0.4700\n",
      "Epoch 29/100\n",
      "500/500 [==============================] - 0s 135us/step - loss: 0.4972 - acc: 0.8500 - val_loss: 1.8509 - val_acc: 0.4800\n",
      "Epoch 30/100\n",
      "500/500 [==============================] - 0s 127us/step - loss: 0.5008 - acc: 0.8420 - val_loss: 1.8752 - val_acc: 0.3900\n",
      "Epoch 31/100\n",
      "500/500 [==============================] - 0s 129us/step - loss: 0.3814 - acc: 0.9020 - val_loss: 1.8404 - val_acc: 0.4300\n",
      "Epoch 32/100\n",
      "500/500 [==============================] - 0s 134us/step - loss: 0.3247 - acc: 0.9280 - val_loss: 1.8638 - val_acc: 0.4300\n",
      "Epoch 33/100\n",
      "500/500 [==============================] - 0s 141us/step - loss: 0.3040 - acc: 0.9300 - val_loss: 1.9240 - val_acc: 0.4700\n",
      "Epoch 34/100\n",
      "500/500 [==============================] - 0s 129us/step - loss: 0.2792 - acc: 0.9300 - val_loss: 2.0460 - val_acc: 0.4600\n",
      "Epoch 35/100\n",
      "500/500 [==============================] - 0s 133us/step - loss: 0.2313 - acc: 0.9560 - val_loss: 2.0307 - val_acc: 0.4400\n",
      "Epoch 36/100\n",
      "500/500 [==============================] - 0s 132us/step - loss: 0.1992 - acc: 0.9580 - val_loss: 1.9233 - val_acc: 0.4800\n",
      "Epoch 37/100\n",
      "500/500 [==============================] - 0s 139us/step - loss: 0.1774 - acc: 0.9700 - val_loss: 2.3073 - val_acc: 0.4300\n",
      "Epoch 38/100\n",
      "500/500 [==============================] - 0s 129us/step - loss: 0.1493 - acc: 0.9860 - val_loss: 2.1904 - val_acc: 0.5000\n",
      "Epoch 39/100\n",
      "500/500 [==============================] - 0s 157us/step - loss: 0.1222 - acc: 0.9860 - val_loss: 2.1081 - val_acc: 0.4500\n",
      "Epoch 40/100\n",
      "500/500 [==============================] - 0s 134us/step - loss: 0.1288 - acc: 0.9820 - val_loss: 1.9825 - val_acc: 0.5100\n",
      "Epoch 41/100\n",
      "500/500 [==============================] - 0s 129us/step - loss: 0.1057 - acc: 0.9960 - val_loss: 2.4588 - val_acc: 0.4600\n",
      "Epoch 42/100\n",
      "500/500 [==============================] - 0s 126us/step - loss: 0.0887 - acc: 0.9940 - val_loss: 2.0514 - val_acc: 0.4800\n",
      "Epoch 43/100\n",
      "500/500 [==============================] - 0s 136us/step - loss: 0.0720 - acc: 1.0000 - val_loss: 2.5205 - val_acc: 0.4400\n",
      "Epoch 44/100\n",
      "500/500 [==============================] - 0s 136us/step - loss: 0.0638 - acc: 1.0000 - val_loss: 2.1491 - val_acc: 0.5000\n",
      "Epoch 45/100\n",
      "500/500 [==============================] - 0s 133us/step - loss: 0.0571 - acc: 0.9980 - val_loss: 2.3504 - val_acc: 0.4600\n",
      "Epoch 46/100\n",
      "500/500 [==============================] - 0s 137us/step - loss: 0.0479 - acc: 1.0000 - val_loss: 2.3627 - val_acc: 0.4600\n",
      "Epoch 47/100\n",
      "500/500 [==============================] - 0s 131us/step - loss: 0.0365 - acc: 1.0000 - val_loss: 2.2906 - val_acc: 0.4700\n",
      "Epoch 48/100\n",
      "500/500 [==============================] - 0s 130us/step - loss: 0.0351 - acc: 1.0000 - val_loss: 2.6408 - val_acc: 0.4600\n",
      "Epoch 49/100\n",
      "500/500 [==============================] - 0s 132us/step - loss: 0.0290 - acc: 1.0000 - val_loss: 2.3397 - val_acc: 0.4800\n",
      "Epoch 50/100\n",
      "500/500 [==============================] - 0s 137us/step - loss: 0.0265 - acc: 1.0000 - val_loss: 2.6133 - val_acc: 0.4500\n",
      "Epoch 51/100\n",
      "500/500 [==============================] - 0s 129us/step - loss: 0.0231 - acc: 1.0000 - val_loss: 2.4779 - val_acc: 0.4700\n",
      "Epoch 52/100\n",
      "500/500 [==============================] - 0s 132us/step - loss: 0.0202 - acc: 1.0000 - val_loss: 2.5943 - val_acc: 0.4600\n",
      "Epoch 53/100\n",
      "500/500 [==============================] - 0s 132us/step - loss: 0.0183 - acc: 1.0000 - val_loss: 2.4277 - val_acc: 0.4700\n",
      "Epoch 54/100\n",
      "500/500 [==============================] - 0s 134us/step - loss: 0.0158 - acc: 1.0000 - val_loss: 2.7286 - val_acc: 0.4500\n",
      "Epoch 55/100\n",
      "500/500 [==============================] - 0s 145us/step - loss: 0.0147 - acc: 1.0000 - val_loss: 2.5496 - val_acc: 0.4900\n",
      "Epoch 56/100\n",
      "500/500 [==============================] - 0s 134us/step - loss: 0.0143 - acc: 1.0000 - val_loss: 2.6225 - val_acc: 0.4600\n",
      "Epoch 57/100\n",
      "500/500 [==============================] - 0s 138us/step - loss: 0.0122 - acc: 1.0000 - val_loss: 2.6794 - val_acc: 0.4500\n",
      "Epoch 58/100\n",
      "500/500 [==============================] - 0s 137us/step - loss: 0.0112 - acc: 1.0000 - val_loss: 2.6850 - val_acc: 0.4600\n",
      "Epoch 59/100\n",
      "500/500 [==============================] - 0s 139us/step - loss: 0.0104 - acc: 1.0000 - val_loss: 2.6582 - val_acc: 0.4500\n",
      "Epoch 60/100\n",
      "500/500 [==============================] - 0s 135us/step - loss: 0.0098 - acc: 1.0000 - val_loss: 2.7106 - val_acc: 0.4700\n",
      "Epoch 61/100\n",
      "500/500 [==============================] - 0s 132us/step - loss: 0.0089 - acc: 1.0000 - val_loss: 2.7413 - val_acc: 0.4600\n",
      "Epoch 62/100\n",
      "500/500 [==============================] - 0s 130us/step - loss: 0.0084 - acc: 1.0000 - val_loss: 2.7582 - val_acc: 0.4500\n",
      "Epoch 63/100\n",
      "500/500 [==============================] - 0s 138us/step - loss: 0.0081 - acc: 1.0000 - val_loss: 2.7518 - val_acc: 0.4700\n",
      "Epoch 64/100\n",
      "500/500 [==============================] - 0s 128us/step - loss: 0.0077 - acc: 1.0000 - val_loss: 2.7865 - val_acc: 0.4800\n",
      "Epoch 65/100\n",
      "500/500 [==============================] - 0s 132us/step - loss: 0.0072 - acc: 1.0000 - val_loss: 2.8465 - val_acc: 0.4600\n",
      "Epoch 66/100\n",
      "500/500 [==============================] - 0s 135us/step - loss: 0.0069 - acc: 1.0000 - val_loss: 2.7965 - val_acc: 0.4700\n",
      "Epoch 67/100\n",
      "500/500 [==============================] - 0s 127us/step - loss: 0.0065 - acc: 1.0000 - val_loss: 2.8361 - val_acc: 0.4700\n",
      "Epoch 68/100\n",
      "500/500 [==============================] - 0s 133us/step - loss: 0.0063 - acc: 1.0000 - val_loss: 2.8431 - val_acc: 0.4600\n",
      "Epoch 69/100\n",
      "500/500 [==============================] - 0s 142us/step - loss: 0.0060 - acc: 1.0000 - val_loss: 2.8361 - val_acc: 0.4700\n",
      "Epoch 70/100\n",
      "500/500 [==============================] - 0s 153us/step - loss: 0.0058 - acc: 1.0000 - val_loss: 2.8847 - val_acc: 0.4700\n",
      "Epoch 71/100\n",
      "500/500 [==============================] - 0s 129us/step - loss: 0.0055 - acc: 1.0000 - val_loss: 2.9080 - val_acc: 0.4600\n",
      "Epoch 72/100\n",
      "500/500 [==============================] - 0s 136us/step - loss: 0.0053 - acc: 1.0000 - val_loss: 2.8721 - val_acc: 0.4800\n",
      "Epoch 73/100\n",
      "500/500 [==============================] - 0s 137us/step - loss: 0.0051 - acc: 1.0000 - val_loss: 2.8936 - val_acc: 0.4800\n",
      "Epoch 74/100\n",
      "500/500 [==============================] - 0s 130us/step - loss: 0.0049 - acc: 1.0000 - val_loss: 2.9429 - val_acc: 0.4700\n",
      "Epoch 75/100\n",
      "500/500 [==============================] - 0s 125us/step - loss: 0.0047 - acc: 1.0000 - val_loss: 2.9129 - val_acc: 0.4600\n",
      "Epoch 76/100\n",
      "500/500 [==============================] - 0s 129us/step - loss: 0.0045 - acc: 1.0000 - val_loss: 2.9537 - val_acc: 0.4700\n",
      "Epoch 77/100\n",
      "500/500 [==============================] - 0s 133us/step - loss: 0.0043 - acc: 1.0000 - val_loss: 2.9561 - val_acc: 0.4700\n",
      "Epoch 78/100\n",
      "500/500 [==============================] - 0s 130us/step - loss: 0.0042 - acc: 1.0000 - val_loss: 2.9607 - val_acc: 0.4700\n",
      "Epoch 79/100\n",
      "500/500 [==============================] - 0s 139us/step - loss: 0.0040 - acc: 1.0000 - val_loss: 3.0050 - val_acc: 0.4600\n",
      "Epoch 80/100\n",
      "500/500 [==============================] - 0s 129us/step - loss: 0.0038 - acc: 1.0000 - val_loss: 2.9715 - val_acc: 0.4700\n",
      "Epoch 81/100\n",
      "500/500 [==============================] - 0s 133us/step - loss: 0.0038 - acc: 1.0000 - val_loss: 2.9880 - val_acc: 0.4700\n",
      "Epoch 82/100\n",
      "500/500 [==============================] - 0s 135us/step - loss: 0.0037 - acc: 1.0000 - val_loss: 3.0346 - val_acc: 0.4600\n",
      "Epoch 83/100\n",
      "500/500 [==============================] - 0s 130us/step - loss: 0.0035 - acc: 1.0000 - val_loss: 2.9939 - val_acc: 0.4700\n",
      "Epoch 84/100\n",
      "500/500 [==============================] - 0s 127us/step - loss: 0.0034 - acc: 1.0000 - val_loss: 3.0380 - val_acc: 0.4700\n",
      "Epoch 85/100\n",
      "500/500 [==============================] - 0s 146us/step - loss: 0.0033 - acc: 1.0000 - val_loss: 3.0244 - val_acc: 0.4700\n",
      "Epoch 86/100\n",
      "500/500 [==============================] - 0s 135us/step - loss: 0.0032 - acc: 1.0000 - val_loss: 3.0428 - val_acc: 0.4600\n",
      "Epoch 87/100\n",
      "500/500 [==============================] - 0s 132us/step - loss: 0.0031 - acc: 1.0000 - val_loss: 3.0723 - val_acc: 0.4600\n",
      "Epoch 88/100\n",
      "500/500 [==============================] - 0s 134us/step - loss: 0.0030 - acc: 1.0000 - val_loss: 3.0633 - val_acc: 0.4600\n",
      "Epoch 89/100\n",
      "500/500 [==============================] - 0s 131us/step - loss: 0.0029 - acc: 1.0000 - val_loss: 3.0546 - val_acc: 0.4700\n",
      "Epoch 90/100\n",
      "500/500 [==============================] - 0s 126us/step - loss: 0.0028 - acc: 1.0000 - val_loss: 3.1003 - val_acc: 0.4600\n",
      "Epoch 91/100\n",
      "500/500 [==============================] - 0s 135us/step - loss: 0.0028 - acc: 1.0000 - val_loss: 3.1041 - val_acc: 0.4600\n",
      "Epoch 92/100\n",
      "500/500 [==============================] - 0s 133us/step - loss: 0.0027 - acc: 1.0000 - val_loss: 3.0811 - val_acc: 0.4700\n",
      "Epoch 93/100\n",
      "500/500 [==============================] - 0s 128us/step - loss: 0.0026 - acc: 1.0000 - val_loss: 3.1063 - val_acc: 0.4700\n",
      "Epoch 94/100\n",
      "500/500 [==============================] - 0s 130us/step - loss: 0.0025 - acc: 1.0000 - val_loss: 3.1184 - val_acc: 0.4600\n",
      "Epoch 95/100\n",
      "500/500 [==============================] - 0s 126us/step - loss: 0.0025 - acc: 1.0000 - val_loss: 3.1179 - val_acc: 0.4600\n",
      "Epoch 96/100\n",
      "500/500 [==============================] - 0s 130us/step - loss: 0.0024 - acc: 1.0000 - val_loss: 3.1308 - val_acc: 0.4700\n",
      "Epoch 97/100\n",
      "500/500 [==============================] - 0s 133us/step - loss: 0.0023 - acc: 1.0000 - val_loss: 3.1310 - val_acc: 0.4600\n",
      "Epoch 98/100\n",
      "500/500 [==============================] - 0s 131us/step - loss: 0.0023 - acc: 1.0000 - val_loss: 3.1430 - val_acc: 0.4600\n",
      "Epoch 99/100\n",
      "500/500 [==============================] - 0s 138us/step - loss: 0.0022 - acc: 1.0000 - val_loss: 3.1363 - val_acc: 0.4700\n",
      "Epoch 100/100\n",
      "500/500 [==============================] - 0s 133us/step - loss: 0.0022 - acc: 1.0000 - val_loss: 3.1674 - val_acc: 0.4700\n"
     ]
    }
   ],
   "source": [
    "results = model.fit(x_train, y_train,\n",
    "          batch_size=batch_size,\n",
    "          epochs=epochs,\n",
    "          validation_data=(x_test, y_test),\n",
    "          shuffle=True)"
   ]
  },
  {
   "cell_type": "code",
   "execution_count": 0,
   "metadata": {
    "colab": {
     "base_uri": "https://localhost:8080/",
     "height": 68
    },
    "colab_type": "code",
    "id": "svempLgSsPEr",
    "outputId": "d6fe2018-ab64-4712-a851-2dbada2f0055"
   },
   "outputs": [
    {
     "name": "stdout",
     "output_type": "stream",
     "text": [
      "100/100 [==============================] - 0s 483us/step\n",
      "Test loss: 3.167443218231201\n",
      "Test accuracy: 0.47\n"
     ]
    }
   ],
   "source": [
    "# Score trained model.\n",
    "scores = model.evaluate(x_test, y_test, verbose=1)\n",
    "print('Test loss:', scores[0])\n",
    "print('Test accuracy:', scores[1])"
   ]
  },
  {
   "cell_type": "code",
   "execution_count": 0,
   "metadata": {
    "colab": {},
    "colab_type": "code",
    "id": "JSfbFYctsPEu"
   },
   "outputs": [],
   "source": [
    "# Accuracy for Training Dataset\n",
    "plt_acc = results.history[\"acc\"]\n",
    "# Accuracy for Validation (Test) Dataset\n",
    "plt_val_acc = results.history[\"val_acc\"]\n",
    "\n",
    "num_epochs = len(plt_val_acc)\n",
    "plt_epoch = np.arange(1, num_epochs+1, 1, dtype=int)"
   ]
  },
  {
   "cell_type": "code",
   "execution_count": 0,
   "metadata": {
    "colab": {
     "base_uri": "https://localhost:8080/",
     "height": 397
    },
    "colab_type": "code",
    "id": "ZMprSU0s1F6C",
    "outputId": "ad46d171-2cda-4d97-d45e-bfb0de632852"
   },
   "outputs": [
    {
     "data": {
      "image/png": "[encoded data removed]",
      "text/plain": [
       "<matplotlib.figure.Figure at 0x7faf504e7b38>"
      ]
     },
     "metadata": {
      "tags": []
     },
     "output_type": "display_data"
    }
   ],
   "source": [
    "plt.figure(1, figsize=(10, 6))\n",
    "plt.plot(plt_epoch, plt_acc, color='c', linewidth=4, label='Training Dataset')\n",
    "plt.plot(plt_epoch, plt_val_acc, color='m', linewidth=4, label='Test Dataset')\n",
    "plt.xlim(1, epochs)\n",
    "plt.xticks(np.arange(0, num_epochs+1, 10, dtype=int))\n",
    "plt.legend(loc='best', fontsize=15)\n",
    "plt.xlabel(r'$Epochs$', fontsize=15)\n",
    "plt.ylabel(r'$Accuracy$', fontsize=15)\n",
    "plt.grid(True)\n",
    "plt.show()"
   ]
  }
 ],
 "metadata": {
  "accelerator": "GPU",
  "colab": {
   "collapsed_sections": [],
   "name": "miniproj1-4-e.ipynb",
   "provenance": [],
   "version": "0.3.2"
  },
  "kernelspec": {
   "display_name": "Python 3",
   "language": "python",
   "name": "python3"
  },
  "language_info": {
   "codemirror_mode": {
    "name": "ipython",
    "version": 3
   },
   "file_extension": ".py",
   "mimetype": "text/x-python",
   "name": "python",
   "nbconvert_exporter": "python",
   "pygments_lexer": "ipython3",
   "version": "3.6.2"
  }
 },
 "nbformat": 4,
 "nbformat_minor": 1
}
