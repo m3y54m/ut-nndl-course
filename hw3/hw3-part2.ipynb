{
 "cells": [
  {
   "cell_type": "code",
   "execution_count": 1,
   "metadata": {},
   "outputs": [],
   "source": [
    "import numpy as np\n",
    "from neupy import algorithms"
   ]
  },
  {
   "cell_type": "code",
   "execution_count": 2,
   "metadata": {},
   "outputs": [],
   "source": [
    "def draw_bin_image(image_matrix):\n",
    "    for row in image_matrix.tolist():\n",
    "        print(' '.join(' *'[val] for val in row))"
   ]
  },
  {
   "cell_type": "code",
   "execution_count": 105,
   "metadata": {},
   "outputs": [],
   "source": [
    "zero = np.matrix([\n",
    "    0, 0, 1, 1, 1, 1, 0, 0,\n",
    "    0, 1, 1, 1, 1, 1, 1, 0,\n",
    "    0, 1, 0, 0, 0, 0, 1, 0,\n",
    "    0, 1, 0, 0, 0, 0, 1, 0,\n",
    "    0, 1, 0, 0, 0, 0, 1, 0,\n",
    "    0, 1, 0, 0, 0, 0, 1, 0,\n",
    "    0, 1, 1, 1, 1, 1, 1, 0,\n",
    "    0, 0, 1, 1, 1, 1, 0, 0\n",
    "])\n",
    "\n",
    "one = np.matrix([\n",
    "    0, 0, 0, 1, 1, 0, 0, 0,\n",
    "    0, 0, 1, 1, 1, 0, 0, 0,\n",
    "    0, 0, 0, 1, 1, 0, 0, 0,\n",
    "    0, 0, 0, 1, 1, 0, 0, 0,\n",
    "    0, 0, 0, 1, 1, 0, 0, 0,\n",
    "    0, 0, 0, 1, 1, 0, 0, 0,\n",
    "    0, 0, 0, 1, 1, 0, 0, 0,\n",
    "    0, 0, 0, 1, 1, 0, 0, 0\n",
    "])\n",
    "\n",
    "two = np.matrix([\n",
    "    0, 0, 1, 1, 1, 1, 0, 0,\n",
    "    0, 1, 0, 0, 0, 1, 1, 0,\n",
    "    0, 1, 0, 0, 0, 1, 1, 0,\n",
    "    0, 0, 0, 0, 1, 1, 0, 0,\n",
    "    0, 0, 0, 1, 1, 0, 0, 0,\n",
    "    0, 0, 1, 1, 0, 0, 0, 0,\n",
    "    0, 1, 1, 1, 1, 1, 1, 0,\n",
    "    0, 1, 1, 1, 1, 1, 1, 0\n",
    "])\n",
    "\n",
    "three = np.matrix([\n",
    "    0, 0, 1, 1, 1, 1, 0, 0,\n",
    "    0, 1, 0, 0, 0, 1, 1, 0,\n",
    "    0, 1, 0, 0, 0, 1, 1, 0,\n",
    "    0, 0, 0, 1, 1, 1, 0, 0,\n",
    "    0, 0, 0, 1, 1, 1, 0, 0,\n",
    "    0, 1, 0, 0, 0, 1, 1, 0,\n",
    "    0, 1, 0, 0, 0, 1, 1, 0,\n",
    "    0, 0, 1, 1, 1, 1, 0, 0\n",
    "])\n",
    "\n",
    "four = np.matrix([\n",
    "    0, 0, 0, 0, 0, 1, 0, 0,\n",
    "    0, 0, 0, 0, 1, 1, 0, 0,\n",
    "    0, 0, 0, 1, 1, 1, 0, 0,\n",
    "    0, 0, 1, 0, 1, 1, 0, 0,\n",
    "    0, 1, 1, 1, 1, 1, 1, 0,\n",
    "    0, 1, 1, 1, 1, 1, 1, 0,\n",
    "    0, 0, 0, 0, 1, 1, 0, 0,\n",
    "    0, 0, 0, 0, 1, 1, 0, 0\n",
    "])\n",
    "\n",
    "five = np.matrix([\n",
    "    0, 1, 1, 1, 1, 1, 1, 0,\n",
    "    0, 1, 1, 1, 1, 1, 1, 0,\n",
    "    0, 1, 0, 0, 0, 0, 0, 0,\n",
    "    0, 1, 1, 1, 1, 1, 0, 0,\n",
    "    0, 1, 1, 1, 1, 1, 1, 0,\n",
    "    0, 0, 0, 0, 0, 1, 1, 0,\n",
    "    0, 1, 0, 0, 0, 1, 1, 0,\n",
    "    0, 0, 1, 1, 1, 1, 0, 0\n",
    "])\n",
    "\n",
    "six = np.matrix([\n",
    "    0, 0, 1, 1, 1, 1, 0, 0,\n",
    "    0, 1, 1, 0, 0, 0, 1, 0,\n",
    "    0, 1, 1, 0, 0, 0, 0, 0,\n",
    "    0, 1, 1, 1, 1, 1, 0, 0,\n",
    "    0, 1, 1, 1, 1, 1, 1, 0,\n",
    "    0, 1, 1, 0, 0, 0, 1, 0,\n",
    "    0, 1, 1, 1, 1, 1, 1, 0,\n",
    "    0, 0, 1, 1, 1, 1, 0, 0\n",
    "])\n",
    "\n",
    "seven = np.matrix([\n",
    "    0, 0, 1, 1, 1, 1, 1, 0,\n",
    "    0, 0, 1, 1, 1, 1, 1, 0,\n",
    "    0, 0, 0, 0, 0, 0, 1, 0,\n",
    "    0, 0, 0, 0, 0, 1, 1, 0,\n",
    "    0, 0, 0, 0, 1, 1, 0, 0,\n",
    "    0, 0, 0, 1, 1, 0, 0, 0,\n",
    "    0, 0, 0, 1, 1, 0, 0, 0,\n",
    "    0, 0, 0, 1, 1, 0, 0, 0\n",
    "])\n",
    "\n",
    "eight = np.matrix([\n",
    "    0, 0, 1, 1, 1, 1, 0, 0,\n",
    "    0, 1, 1, 1, 1, 1, 1, 0,\n",
    "    0, 1, 0, 0, 0, 0, 1, 0,\n",
    "    0, 0, 1, 1, 1, 1, 0, 0,\n",
    "    0, 0, 1, 1, 1, 1, 0, 0,\n",
    "    0, 1, 0, 0, 0, 0, 1, 0,\n",
    "    0, 1, 1, 1, 1, 1, 1, 0,\n",
    "    0, 0, 1, 1, 1, 1, 0, 0\n",
    "])\n",
    "\n",
    "nine = np.matrix([\n",
    "    0, 0, 1, 1, 1, 1, 0, 0,\n",
    "    0, 1, 1, 1, 1, 1, 1, 0,\n",
    "    0, 1, 1, 0, 0, 1, 1, 0,\n",
    "    0, 1, 1, 1, 1, 1, 1, 0,\n",
    "    0, 0, 1, 1, 1, 1, 1, 0,\n",
    "    0, 0, 0, 0, 0, 1, 1, 0,\n",
    "    0, 1, 0, 0, 0, 1, 1, 0,\n",
    "    0, 0, 1, 1, 1, 1, 0, 0\n",
    "])"
   ]
  },
  {
   "cell_type": "code",
   "execution_count": 106,
   "metadata": {},
   "outputs": [
    {
     "name": "stdout",
     "output_type": "stream",
     "text": [
      "    * * * *    \n",
      "  * * * * * *  \n",
      "  * *     * *  \n",
      "  * * * * * *  \n",
      "    * * * * *  \n",
      "          * *  \n",
      "  *       * *  \n",
      "    * * * *    \n"
     ]
    }
   ],
   "source": [
    "draw_bin_image(nine.reshape((8, 8)))"
   ]
  },
  {
   "cell_type": "code",
   "execution_count": 107,
   "metadata": {},
   "outputs": [],
   "source": [
    "data = np.concatenate([zero, one, two, three, four, five, six, seven, eight, nine], axis=0)"
   ]
  },
  {
   "cell_type": "code",
   "execution_count": 108,
   "metadata": {},
   "outputs": [],
   "source": [
    "dhnet = algorithms.DiscreteHopfieldNetwork(mode='async', check_limit=False)"
   ]
  },
  {
   "cell_type": "code",
   "execution_count": 109,
   "metadata": {},
   "outputs": [],
   "source": [
    "dhnet.train(data)"
   ]
  },
  {
   "cell_type": "code",
   "execution_count": 120,
   "metadata": {},
   "outputs": [],
   "source": [
    "half_zero = np.matrix([\n",
    "    0, 1, 1, 1, 1, 1, 1, 0,\n",
    "    0, 1, 1, 1, 1, 1, 1, 0,\n",
    "    0, 1, 0, 0, 0, 0, 0, 0,\n",
    "    0, 1, 1, 1, 1, 1, 0, 0,\n",
    "    0, 0, 0, 0, 0, 0, 0, 0,\n",
    "    0, 0, 0, 0, 0, 0, 0, 0,\n",
    "    0, 0, 0, 0, 0, 0, 0, 0,\n",
    "    0, 0, 0, 0, 0, 0, 0, 0\n",
    "])"
   ]
  },
  {
   "cell_type": "code",
   "execution_count": 121,
   "metadata": {},
   "outputs": [
    {
     "name": "stdout",
     "output_type": "stream",
     "text": [
      "  * * * * *    \n",
      "  * * * * * *  \n",
      "  *            \n",
      "    * * * *    \n",
      "    * * * *    \n",
      "            *  \n",
      "  *   *     *  \n",
      "    * * * *    \n"
     ]
    }
   ],
   "source": [
    "result = dhnet.predict(half_zero)\n",
    "draw_bin_image(result.reshape((8, 8)))"
   ]
  },
  {
   "cell_type": "code",
   "execution_count": null,
   "metadata": {},
   "outputs": [],
   "source": []
  }
 ],
 "metadata": {
  "kernelspec": {
   "display_name": "Python 3",
   "language": "python",
   "name": "python3"
  },
  "language_info": {
   "codemirror_mode": {
    "name": "ipython",
    "version": 3
   },
   "file_extension": ".py",
   "mimetype": "text/x-python",
   "name": "python",
   "nbconvert_exporter": "python",
   "pygments_lexer": "ipython3",
   "version": "3.6.2"
  }
 },
 "nbformat": 4,
 "nbformat_minor": 2
}
