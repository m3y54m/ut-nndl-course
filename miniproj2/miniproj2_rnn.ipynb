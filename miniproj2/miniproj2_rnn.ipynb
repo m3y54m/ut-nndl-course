{
  "nbformat": 4,
  "nbformat_minor": 0,
  "metadata": {
    "colab": {
      "name": "miniproj2-rnn.ipynb",
      "version": "0.3.2",
      "provenance": [],
      "collapsed_sections": [],
      "include_colab_link": true
    },
    "kernelspec": {
      "name": "python3",
      "display_name": "Python 3"
    },
    "accelerator": "GPU"
  },
  "cells": [
    {
      "cell_type": "markdown",
      "metadata": {
        "id": "view-in-github",
        "colab_type": "text"
      },
      "source": [
        "<a href=\"https://colab.research.google.com/github/m3y54m/ut-nndl-course/blob/master/miniproj2/miniproj2_rnn.ipynb\" target=\"_parent\"><img src=\"https://colab.research.google.com/assets/colab-badge.svg\" alt=\"Open In Colab\"/></a>"
      ]
    },
    {
      "metadata": {
        "id": "uBL6ftlEsPD7",
        "colab_type": "code",
        "outputId": "1c302da6-f3db-4f8c-b420-20e12b1fe0f6",
        "colab": {
          "base_uri": "https://localhost:8080/",
          "height": 51
        }
      },
      "cell_type": "code",
      "source": [
        "import numpy as np\n",
        "import matplotlib.pyplot as plt\n",
        "import tensorflow as tf\n",
        "\n",
        "from tensorflow.keras.models import Sequential\n",
        "from tensorflow.keras.layers import Dense, Dropout, Flatten, Conv2D, MaxPooling2D \n",
        "\n",
        "from tensorflow.keras.datasets import cifar10\n",
        "from tensorflow.keras.preprocessing.image import ImageDataGenerator\n",
        "\n",
        "import os\n",
        "\n",
        "print(tf.VERSION)\n",
        "print(tf.keras.__version__)"
      ],
      "execution_count": 0,
      "outputs": [
        {
          "output_type": "stream",
          "text": [
            "1.12.0\n",
            "2.1.6-tf\n"
          ],
          "name": "stdout"
        }
      ]
    },
    {
      "metadata": {
        "id": "-Dgr5TGesPEN",
        "colab_type": "code",
        "outputId": "448dc4b4-09a7-40bf-c9af-6a0f42619190",
        "colab": {
          "base_uri": "https://localhost:8080/",
          "height": 34
        }
      },
      "cell_type": "code",
      "source": [
        "# The data, split between train and test sets:\n",
        "(x_train, y_train), (x_test, y_test) = cifar10.load_data()\n",
        "print('x_train shape:', x_train.shape)"
      ],
      "execution_count": 0,
      "outputs": [
        {
          "output_type": "stream",
          "text": [
            "x_train shape: (50000, 32, 32, 3)\n"
          ],
          "name": "stdout"
        }
      ]
    },
    {
      "metadata": {
        "id": "sfOy0JehsPEI",
        "colab_type": "code",
        "outputId": "d94f7fc2-7e4c-4a3b-df58-8ce57b607dde",
        "colab": {
          "base_uri": "https://localhost:8080/",
          "height": 51
        }
      },
      "cell_type": "code",
      "source": [
        "trainset_size = x_train.shape[0]\n",
        "testset_size = x_test.shape[0]\n",
        "batch_size = 100\n",
        "steps_per_epoch = np.ceil(trainset_size / batch_size).astype('int')\n",
        "num_classes = 10\n",
        "epochs = 100\n",
        "# input shape: (32, 32, 3)\n",
        "input_shape = x_train.shape[1:]\n",
        "\n",
        "data_augmentation = False\n",
        "#num_predictions = 20\n",
        "\n",
        "print(trainset_size, 'train samples')\n",
        "print(testset_size, 'test samples')"
      ],
      "execution_count": 0,
      "outputs": [
        {
          "output_type": "stream",
          "text": [
            "50000 train samples\n",
            "10000 test samples\n"
          ],
          "name": "stdout"
        }
      ]
    },
    {
      "metadata": {
        "id": "l2lnMZkIsPER",
        "colab_type": "code",
        "colab": {}
      },
      "cell_type": "code",
      "source": [
        "# Convert class vectors to binary (one-hot) class matrices.\n",
        "y_train = tf.keras.utils.to_categorical(y_train, num_classes)\n",
        "y_test = tf.keras.utils.to_categorical(y_test, num_classes)"
      ],
      "execution_count": 0,
      "outputs": []
    },
    {
      "metadata": {
        "id": "80-OVycBsPEU",
        "colab_type": "code",
        "outputId": "4f6ba452-8e6c-4346-98f2-d633bd9a3a5d",
        "colab": {
          "base_uri": "https://localhost:8080/",
          "height": 442
        }
      },
      "cell_type": "code",
      "source": [
        "tf.keras.backend.clear_session()\n",
        "\n",
        "model = Sequential()\n",
        "\n",
        "model.add(Conv2D(32, (3, 3), strides=(1, 1), padding='same', activation='relu', input_shape=input_shape))\n",
        "model.add(MaxPooling2D(pool_size=(2, 2)))\n",
        "#model.add(Dropout(0.25))\n",
        "model.add(Conv2D(64, (3, 3), strides=(1, 1), padding='same', activation='relu'))\n",
        "model.add(MaxPooling2D(pool_size=(2, 2)))\n",
        "#model.add(Dropout(0.25))\n",
        "model.add(Conv2D(128, (3, 3), strides=(1, 1), padding='same', activation='relu'))\n",
        "model.add(MaxPooling2D(pool_size=(2, 2)))\n",
        "#model.add(Dropout(0.25))\n",
        "model.add(Flatten())\n",
        "model.add(Dense(256, activation='relu'))\n",
        "#model.add(Dropout(0.5))\n",
        "model.add(Dense(num_classes, activation='softmax'))\n",
        "\n",
        "model.summary()"
      ],
      "execution_count": 0,
      "outputs": [
        {
          "output_type": "stream",
          "text": [
            "_________________________________________________________________\n",
            "Layer (type)                 Output Shape              Param #   \n",
            "=================================================================\n",
            "conv2d (Conv2D)              (None, 32, 32, 32)        896       \n",
            "_________________________________________________________________\n",
            "max_pooling2d (MaxPooling2D) (None, 16, 16, 32)        0         \n",
            "_________________________________________________________________\n",
            "conv2d_1 (Conv2D)            (None, 16, 16, 64)        18496     \n",
            "_________________________________________________________________\n",
            "max_pooling2d_1 (MaxPooling2 (None, 8, 8, 64)          0         \n",
            "_________________________________________________________________\n",
            "conv2d_2 (Conv2D)            (None, 8, 8, 128)         73856     \n",
            "_________________________________________________________________\n",
            "max_pooling2d_2 (MaxPooling2 (None, 4, 4, 128)         0         \n",
            "_________________________________________________________________\n",
            "flatten (Flatten)            (None, 2048)              0         \n",
            "_________________________________________________________________\n",
            "dense (Dense)                (None, 256)               524544    \n",
            "_________________________________________________________________\n",
            "dense_1 (Dense)              (None, 10)                2570      \n",
            "=================================================================\n",
            "Total params: 620,362\n",
            "Trainable params: 620,362\n",
            "Non-trainable params: 0\n",
            "_________________________________________________________________\n"
          ],
          "name": "stdout"
        }
      ]
    },
    {
      "metadata": {
        "id": "Rvt-3B1wsPEZ",
        "colab_type": "code",
        "colab": {}
      },
      "cell_type": "code",
      "source": [
        "# initiate RMSprop optimizer\n",
        "#opt = tf.keras.optimizers.RMSprop(lr=0.0001, decay=1e-6)"
      ],
      "execution_count": 0,
      "outputs": []
    },
    {
      "metadata": {
        "id": "5xjHL4FOsPEc",
        "colab_type": "code",
        "colab": {}
      },
      "cell_type": "code",
      "source": [
        "# Let's train the model using AdamOptimizer\n",
        "model.compile(optimizer=tf.train.AdamOptimizer(0.001),\n",
        "              loss='categorical_crossentropy',\n",
        "              metrics=['accuracy'])"
      ],
      "execution_count": 0,
      "outputs": []
    },
    {
      "metadata": {
        "id": "SUc3ZGPdsPEf",
        "colab_type": "code",
        "colab": {}
      },
      "cell_type": "code",
      "source": [
        "# Normalize input numbers\n",
        "x_train = x_train.astype('float32')\n",
        "x_test = x_test.astype('float32')\n",
        "x_train /= 255\n",
        "x_test /= 255"
      ],
      "execution_count": 0,
      "outputs": []
    },
    {
      "metadata": {
        "id": "LrFv6AebsPEj",
        "colab_type": "code",
        "outputId": "bea83322-aae0-434a-9c7a-3ce32d7e9919",
        "colab": {
          "base_uri": "https://localhost:8080/",
          "height": 3434
        }
      },
      "cell_type": "code",
      "source": [
        "results = model.fit(x_train, y_train,\n",
        "          batch_size=batch_size,\n",
        "          epochs=epochs,\n",
        "          validation_data=(x_test, y_test),\n",
        "          shuffle=True)"
      ],
      "execution_count": 0,
      "outputs": [
        {
          "output_type": "stream",
          "text": [
            "Train on 50000 samples, validate on 10000 samples\n",
            "Epoch 1/100\n",
            "50000/50000 [==============================] - 8s 153us/step - loss: 1.4670 - acc: 0.4697 - val_loss: 1.1890 - val_acc: 0.5786\n",
            "Epoch 2/100\n",
            "50000/50000 [==============================] - 7s 143us/step - loss: 1.0494 - acc: 0.6334 - val_loss: 0.9650 - val_acc: 0.6658\n",
            "Epoch 3/100\n",
            "50000/50000 [==============================] - 7s 144us/step - loss: 0.8799 - acc: 0.6942 - val_loss: 0.8858 - val_acc: 0.6974\n",
            "Epoch 4/100\n",
            "50000/50000 [==============================] - 7s 142us/step - loss: 0.7659 - acc: 0.7331 - val_loss: 0.7969 - val_acc: 0.7245\n",
            "Epoch 5/100\n",
            "50000/50000 [==============================] - 7s 143us/step - loss: 0.6720 - acc: 0.7673 - val_loss: 0.7853 - val_acc: 0.7319\n",
            "Epoch 6/100\n",
            "50000/50000 [==============================] - 7s 143us/step - loss: 0.5907 - acc: 0.7936 - val_loss: 0.7872 - val_acc: 0.7289\n",
            "Epoch 7/100\n",
            "50000/50000 [==============================] - 7s 142us/step - loss: 0.5131 - acc: 0.8197 - val_loss: 0.7478 - val_acc: 0.7519\n",
            "Epoch 8/100\n",
            "50000/50000 [==============================] - 7s 143us/step - loss: 0.4436 - acc: 0.8472 - val_loss: 0.7705 - val_acc: 0.7517\n",
            "Epoch 9/100\n",
            "50000/50000 [==============================] - 7s 143us/step - loss: 0.3774 - acc: 0.8681 - val_loss: 0.8035 - val_acc: 0.7507\n",
            "Epoch 10/100\n",
            "50000/50000 [==============================] - 7s 143us/step - loss: 0.3124 - acc: 0.8917 - val_loss: 0.8400 - val_acc: 0.7496\n",
            "Epoch 11/100\n",
            "50000/50000 [==============================] - 7s 143us/step - loss: 0.2471 - acc: 0.9144 - val_loss: 0.9464 - val_acc: 0.7415\n",
            "Epoch 12/100\n",
            "50000/50000 [==============================] - 7s 144us/step - loss: 0.2055 - acc: 0.9287 - val_loss: 1.0145 - val_acc: 0.7456\n",
            "Epoch 13/100\n",
            "50000/50000 [==============================] - 7s 144us/step - loss: 0.1598 - acc: 0.9447 - val_loss: 1.0525 - val_acc: 0.7472\n",
            "Epoch 14/100\n",
            "50000/50000 [==============================] - 7s 144us/step - loss: 0.1272 - acc: 0.9558 - val_loss: 1.1550 - val_acc: 0.7411\n",
            "Epoch 15/100\n",
            "50000/50000 [==============================] - 7s 144us/step - loss: 0.1138 - acc: 0.9602 - val_loss: 1.3238 - val_acc: 0.7334\n",
            "Epoch 16/100\n",
            "50000/50000 [==============================] - 7s 145us/step - loss: 0.1054 - acc: 0.9636 - val_loss: 1.3488 - val_acc: 0.7320\n",
            "Epoch 17/100\n",
            "50000/50000 [==============================] - 7s 144us/step - loss: 0.0892 - acc: 0.9687 - val_loss: 1.3601 - val_acc: 0.7356\n",
            "Epoch 18/100\n",
            "50000/50000 [==============================] - 7s 142us/step - loss: 0.0740 - acc: 0.9747 - val_loss: 1.4516 - val_acc: 0.7431\n",
            "Epoch 19/100\n",
            "50000/50000 [==============================] - 7s 138us/step - loss: 0.0822 - acc: 0.9710 - val_loss: 1.4727 - val_acc: 0.7455\n",
            "Epoch 20/100\n",
            "50000/50000 [==============================] - 7s 140us/step - loss: 0.0731 - acc: 0.9742 - val_loss: 1.5308 - val_acc: 0.7349\n",
            "Epoch 21/100\n",
            "50000/50000 [==============================] - 7s 139us/step - loss: 0.0646 - acc: 0.9766 - val_loss: 1.5723 - val_acc: 0.7410\n",
            "Epoch 22/100\n",
            "50000/50000 [==============================] - 7s 139us/step - loss: 0.0657 - acc: 0.9771 - val_loss: 1.6747 - val_acc: 0.7334\n",
            "Epoch 23/100\n",
            "50000/50000 [==============================] - 7s 139us/step - loss: 0.0664 - acc: 0.9771 - val_loss: 1.6426 - val_acc: 0.7385\n",
            "Epoch 24/100\n",
            "50000/50000 [==============================] - 7s 141us/step - loss: 0.0643 - acc: 0.9784 - val_loss: 1.6551 - val_acc: 0.7400\n",
            "Epoch 25/100\n",
            "50000/50000 [==============================] - 7s 139us/step - loss: 0.0570 - acc: 0.9799 - val_loss: 1.6469 - val_acc: 0.7419\n",
            "Epoch 26/100\n",
            "50000/50000 [==============================] - 7s 140us/step - loss: 0.0548 - acc: 0.9809 - val_loss: 1.6727 - val_acc: 0.7483\n",
            "Epoch 27/100\n",
            "50000/50000 [==============================] - 7s 140us/step - loss: 0.0513 - acc: 0.9827 - val_loss: 1.7592 - val_acc: 0.7365\n",
            "Epoch 28/100\n",
            "50000/50000 [==============================] - 7s 139us/step - loss: 0.0563 - acc: 0.9809 - val_loss: 1.8056 - val_acc: 0.7250\n",
            "Epoch 29/100\n",
            "50000/50000 [==============================] - 7s 141us/step - loss: 0.0508 - acc: 0.9821 - val_loss: 1.8427 - val_acc: 0.7416\n",
            "Epoch 30/100\n",
            "50000/50000 [==============================] - 7s 140us/step - loss: 0.0513 - acc: 0.9824 - val_loss: 1.8112 - val_acc: 0.7381\n",
            "Epoch 31/100\n",
            "50000/50000 [==============================] - 7s 138us/step - loss: 0.0544 - acc: 0.9818 - val_loss: 1.8120 - val_acc: 0.7425\n",
            "Epoch 32/100\n",
            "50000/50000 [==============================] - 7s 140us/step - loss: 0.0458 - acc: 0.9845 - val_loss: 1.9588 - val_acc: 0.7333\n",
            "Epoch 33/100\n",
            "50000/50000 [==============================] - 7s 140us/step - loss: 0.0614 - acc: 0.9791 - val_loss: 1.8607 - val_acc: 0.7354\n",
            "Epoch 34/100\n",
            "50000/50000 [==============================] - 7s 140us/step - loss: 0.0355 - acc: 0.9875 - val_loss: 1.9403 - val_acc: 0.7393\n",
            "Epoch 35/100\n",
            "50000/50000 [==============================] - 7s 140us/step - loss: 0.0603 - acc: 0.9797 - val_loss: 1.8660 - val_acc: 0.7386\n",
            "Epoch 36/100\n",
            "50000/50000 [==============================] - 7s 140us/step - loss: 0.0430 - acc: 0.9851 - val_loss: 1.9446 - val_acc: 0.7362\n",
            "Epoch 37/100\n",
            "50000/50000 [==============================] - 7s 140us/step - loss: 0.0369 - acc: 0.9875 - val_loss: 1.9961 - val_acc: 0.7366\n",
            "Epoch 38/100\n",
            "50000/50000 [==============================] - 7s 141us/step - loss: 0.0457 - acc: 0.9849 - val_loss: 1.9667 - val_acc: 0.7402\n",
            "Epoch 39/100\n",
            "50000/50000 [==============================] - 7s 140us/step - loss: 0.0347 - acc: 0.9881 - val_loss: 2.0361 - val_acc: 0.7321\n",
            "Epoch 40/100\n",
            "50000/50000 [==============================] - 7s 140us/step - loss: 0.0575 - acc: 0.9820 - val_loss: 1.9705 - val_acc: 0.7347\n",
            "Epoch 41/100\n",
            "50000/50000 [==============================] - 7s 140us/step - loss: 0.0391 - acc: 0.9879 - val_loss: 2.1060 - val_acc: 0.7275\n",
            "Epoch 42/100\n",
            "50000/50000 [==============================] - 7s 140us/step - loss: 0.0427 - acc: 0.9864 - val_loss: 1.9937 - val_acc: 0.7387\n",
            "Epoch 43/100\n",
            "50000/50000 [==============================] - 7s 140us/step - loss: 0.0455 - acc: 0.9854 - val_loss: 2.0370 - val_acc: 0.7255\n",
            "Epoch 44/100\n",
            "50000/50000 [==============================] - 7s 140us/step - loss: 0.0423 - acc: 0.9869 - val_loss: 2.1218 - val_acc: 0.7332\n",
            "Epoch 45/100\n",
            "50000/50000 [==============================] - 7s 140us/step - loss: 0.0368 - acc: 0.9876 - val_loss: 2.1901 - val_acc: 0.7342\n",
            "Epoch 46/100\n",
            "50000/50000 [==============================] - 7s 141us/step - loss: 0.0439 - acc: 0.9858 - val_loss: 2.0362 - val_acc: 0.7316\n",
            "Epoch 47/100\n",
            "50000/50000 [==============================] - 7s 142us/step - loss: 0.0352 - acc: 0.9888 - val_loss: 2.1009 - val_acc: 0.7339\n",
            "Epoch 48/100\n",
            "50000/50000 [==============================] - 7s 140us/step - loss: 0.0409 - acc: 0.9868 - val_loss: 2.1439 - val_acc: 0.7327\n",
            "Epoch 49/100\n",
            "50000/50000 [==============================] - 7s 137us/step - loss: 0.0407 - acc: 0.9864 - val_loss: 2.2106 - val_acc: 0.7300\n",
            "Epoch 50/100\n",
            "50000/50000 [==============================] - 7s 139us/step - loss: 0.0367 - acc: 0.9882 - val_loss: 2.0952 - val_acc: 0.7310\n",
            "Epoch 51/100\n",
            "50000/50000 [==============================] - 7s 139us/step - loss: 0.0399 - acc: 0.9870 - val_loss: 2.1394 - val_acc: 0.7343\n",
            "Epoch 52/100\n",
            "50000/50000 [==============================] - 7s 139us/step - loss: 0.0376 - acc: 0.9877 - val_loss: 2.1825 - val_acc: 0.7436\n",
            "Epoch 53/100\n",
            "50000/50000 [==============================] - 7s 139us/step - loss: 0.0368 - acc: 0.9880 - val_loss: 2.1405 - val_acc: 0.7380\n",
            "Epoch 54/100\n",
            "50000/50000 [==============================] - 7s 139us/step - loss: 0.0394 - acc: 0.9875 - val_loss: 2.2733 - val_acc: 0.7262\n",
            "Epoch 55/100\n",
            "50000/50000 [==============================] - 7s 140us/step - loss: 0.0440 - acc: 0.9861 - val_loss: 2.2964 - val_acc: 0.7293\n",
            "Epoch 56/100\n",
            "50000/50000 [==============================] - 7s 139us/step - loss: 0.0369 - acc: 0.9885 - val_loss: 2.2170 - val_acc: 0.7373\n",
            "Epoch 57/100\n",
            "50000/50000 [==============================] - 7s 140us/step - loss: 0.0359 - acc: 0.9889 - val_loss: 2.2807 - val_acc: 0.7302\n",
            "Epoch 58/100\n",
            "50000/50000 [==============================] - 7s 140us/step - loss: 0.0352 - acc: 0.9889 - val_loss: 2.2936 - val_acc: 0.7346\n",
            "Epoch 59/100\n",
            "50000/50000 [==============================] - 7s 140us/step - loss: 0.0402 - acc: 0.9881 - val_loss: 2.2855 - val_acc: 0.7237\n",
            "Epoch 60/100\n",
            "50000/50000 [==============================] - 7s 139us/step - loss: 0.0295 - acc: 0.9906 - val_loss: 2.2228 - val_acc: 0.7408\n",
            "Epoch 61/100\n",
            "50000/50000 [==============================] - 7s 141us/step - loss: 0.0305 - acc: 0.9907 - val_loss: 2.3259 - val_acc: 0.7308\n",
            "Epoch 62/100\n",
            "50000/50000 [==============================] - 7s 140us/step - loss: 0.0384 - acc: 0.9883 - val_loss: 2.2286 - val_acc: 0.7383\n",
            "Epoch 63/100\n",
            "50000/50000 [==============================] - 7s 140us/step - loss: 0.0377 - acc: 0.9880 - val_loss: 2.3336 - val_acc: 0.7314\n",
            "Epoch 64/100\n",
            "50000/50000 [==============================] - 7s 140us/step - loss: 0.0284 - acc: 0.9905 - val_loss: 2.3085 - val_acc: 0.7361\n",
            "Epoch 65/100\n",
            "50000/50000 [==============================] - 7s 139us/step - loss: 0.0254 - acc: 0.9919 - val_loss: 2.3568 - val_acc: 0.7388\n",
            "Epoch 66/100\n",
            "50000/50000 [==============================] - 7s 139us/step - loss: 0.0507 - acc: 0.9854 - val_loss: 2.2645 - val_acc: 0.7380\n",
            "Epoch 67/100\n",
            "50000/50000 [==============================] - 7s 138us/step - loss: 0.0324 - acc: 0.9896 - val_loss: 2.2660 - val_acc: 0.7436\n",
            "Epoch 68/100\n",
            "50000/50000 [==============================] - 7s 139us/step - loss: 0.0314 - acc: 0.9904 - val_loss: 2.2985 - val_acc: 0.7397\n",
            "Epoch 69/100\n",
            "50000/50000 [==============================] - 7s 140us/step - loss: 0.0371 - acc: 0.9887 - val_loss: 2.2785 - val_acc: 0.7382\n",
            "Epoch 70/100\n",
            "50000/50000 [==============================] - 7s 140us/step - loss: 0.0268 - acc: 0.9912 - val_loss: 2.3982 - val_acc: 0.7410\n",
            "Epoch 71/100\n",
            "50000/50000 [==============================] - 7s 140us/step - loss: 0.0430 - acc: 0.9873 - val_loss: 2.3090 - val_acc: 0.7417\n",
            "Epoch 72/100\n",
            "50000/50000 [==============================] - 7s 140us/step - loss: 0.0249 - acc: 0.9920 - val_loss: 2.3179 - val_acc: 0.7384\n",
            "Epoch 73/100\n",
            "50000/50000 [==============================] - 7s 140us/step - loss: 0.0284 - acc: 0.9911 - val_loss: 2.5062 - val_acc: 0.7327\n",
            "Epoch 74/100\n",
            "50000/50000 [==============================] - 7s 140us/step - loss: 0.0456 - acc: 0.9868 - val_loss: 2.4490 - val_acc: 0.7339\n",
            "Epoch 75/100\n",
            "50000/50000 [==============================] - 7s 139us/step - loss: 0.0279 - acc: 0.9915 - val_loss: 2.3778 - val_acc: 0.7368\n",
            "Epoch 76/100\n",
            "50000/50000 [==============================] - 7s 139us/step - loss: 0.0291 - acc: 0.9917 - val_loss: 2.5174 - val_acc: 0.7279\n",
            "Epoch 77/100\n",
            "50000/50000 [==============================] - 7s 139us/step - loss: 0.0331 - acc: 0.9899 - val_loss: 2.4450 - val_acc: 0.7367\n",
            "Epoch 78/100\n",
            "50000/50000 [==============================] - 7s 139us/step - loss: 0.0295 - acc: 0.9910 - val_loss: 2.4930 - val_acc: 0.7332\n",
            "Epoch 79/100\n",
            "50000/50000 [==============================] - 7s 138us/step - loss: 0.0392 - acc: 0.9890 - val_loss: 2.4657 - val_acc: 0.7335\n",
            "Epoch 80/100\n",
            "50000/50000 [==============================] - 7s 137us/step - loss: 0.0359 - acc: 0.9900 - val_loss: 2.5227 - val_acc: 0.7316\n",
            "Epoch 81/100\n",
            "50000/50000 [==============================] - 7s 138us/step - loss: 0.0313 - acc: 0.9910 - val_loss: 2.4442 - val_acc: 0.7370\n",
            "Epoch 82/100\n",
            "50000/50000 [==============================] - 7s 137us/step - loss: 0.0287 - acc: 0.9912 - val_loss: 2.5049 - val_acc: 0.7405\n",
            "Epoch 83/100\n",
            "50000/50000 [==============================] - 7s 138us/step - loss: 0.0345 - acc: 0.9902 - val_loss: 2.4664 - val_acc: 0.7361\n",
            "Epoch 84/100\n",
            "50000/50000 [==============================] - 7s 140us/step - loss: 0.0262 - acc: 0.9923 - val_loss: 2.5113 - val_acc: 0.7434\n",
            "Epoch 85/100\n",
            "50000/50000 [==============================] - 7s 140us/step - loss: 0.0428 - acc: 0.9880 - val_loss: 2.5320 - val_acc: 0.7370\n",
            "Epoch 86/100\n",
            "50000/50000 [==============================] - 7s 139us/step - loss: 0.0267 - acc: 0.9924 - val_loss: 2.5395 - val_acc: 0.7344\n",
            "Epoch 87/100\n",
            "50000/50000 [==============================] - 7s 139us/step - loss: 0.0244 - acc: 0.9929 - val_loss: 2.6108 - val_acc: 0.7260\n",
            "Epoch 88/100\n",
            "50000/50000 [==============================] - 7s 139us/step - loss: 0.0430 - acc: 0.9883 - val_loss: 2.5748 - val_acc: 0.7376\n",
            "Epoch 89/100\n",
            "50000/50000 [==============================] - 7s 139us/step - loss: 0.0264 - acc: 0.9920 - val_loss: 2.5978 - val_acc: 0.7335\n",
            "Epoch 90/100\n",
            "50000/50000 [==============================] - 7s 139us/step - loss: 0.0436 - acc: 0.9878 - val_loss: 2.5404 - val_acc: 0.7316\n",
            "Epoch 91/100\n",
            "50000/50000 [==============================] - 7s 139us/step - loss: 0.0272 - acc: 0.9921 - val_loss: 2.5936 - val_acc: 0.7348\n",
            "Epoch 92/100\n",
            "50000/50000 [==============================] - 7s 138us/step - loss: 0.0295 - acc: 0.9921 - val_loss: 2.6253 - val_acc: 0.7332\n",
            "Epoch 93/100\n",
            "50000/50000 [==============================] - 7s 138us/step - loss: 0.0281 - acc: 0.9919 - val_loss: 2.5711 - val_acc: 0.7384\n",
            "Epoch 94/100\n",
            "50000/50000 [==============================] - 7s 138us/step - loss: 0.0338 - acc: 0.9912 - val_loss: 2.7318 - val_acc: 0.7272\n",
            "Epoch 95/100\n",
            "50000/50000 [==============================] - 7s 139us/step - loss: 0.0310 - acc: 0.9910 - val_loss: 2.6252 - val_acc: 0.7342\n",
            "Epoch 96/100\n",
            "50000/50000 [==============================] - 7s 140us/step - loss: 0.0333 - acc: 0.9915 - val_loss: 2.6414 - val_acc: 0.7307\n",
            "Epoch 97/100\n",
            "50000/50000 [==============================] - 7s 139us/step - loss: 0.0353 - acc: 0.9905 - val_loss: 2.5653 - val_acc: 0.7403\n",
            "Epoch 98/100\n",
            "50000/50000 [==============================] - 7s 138us/step - loss: 0.0289 - acc: 0.9924 - val_loss: 2.5865 - val_acc: 0.7354\n",
            "Epoch 99/100\n",
            "50000/50000 [==============================] - 7s 138us/step - loss: 0.0289 - acc: 0.9919 - val_loss: 2.6100 - val_acc: 0.7346\n",
            "Epoch 100/100\n",
            "50000/50000 [==============================] - 7s 137us/step - loss: 0.0339 - acc: 0.9901 - val_loss: 2.6992 - val_acc: 0.7319\n"
          ],
          "name": "stdout"
        }
      ]
    },
    {
      "metadata": {
        "id": "svempLgSsPEr",
        "colab_type": "code",
        "outputId": "3eaafdff-b128-41f9-8dba-cac0da78041a",
        "colab": {
          "base_uri": "https://localhost:8080/",
          "height": 68
        }
      },
      "cell_type": "code",
      "source": [
        "# Score trained model.\n",
        "scores = model.evaluate(x_test, y_test, verbose=1)\n",
        "print('Test loss:', scores[0])\n",
        "print('Test accuracy:', scores[1])"
      ],
      "execution_count": 0,
      "outputs": [
        {
          "output_type": "stream",
          "text": [
            "10000/10000 [==============================] - 1s 102us/step\n",
            "Test loss: 2.6992036222457885\n",
            "Test accuracy: 0.7319\n"
          ],
          "name": "stdout"
        }
      ]
    },
    {
      "metadata": {
        "id": "JSfbFYctsPEu",
        "colab_type": "code",
        "colab": {}
      },
      "cell_type": "code",
      "source": [
        "# Loss and Accuracy for Training Dataset\n",
        "plt_loss = results.history[\"loss\"]\n",
        "plt_acc = results.history[\"acc\"]\n",
        "# Loss and Accuracy for Validation (Test) Dataset\n",
        "plt_val_loss = results.history[\"val_loss\"]\n",
        "plt_val_acc = results.history[\"val_acc\"]\n",
        "\n",
        "num_epochs = len(plt_val_acc)\n",
        "plt_epoch = np.arange(1, num_epochs+1, 1, dtype=int)"
      ],
      "execution_count": 0,
      "outputs": []
    },
    {
      "metadata": {
        "id": "ZMprSU0s1F6C",
        "colab_type": "code",
        "outputId": "8be9b17e-54ec-4535-87df-c7a550a510bf",
        "colab": {
          "base_uri": "https://localhost:8080/",
          "height": 401
        }
      },
      "cell_type": "code",
      "source": [
        "plt.figure(1, figsize=(10, 6))\n",
        "plt.plot(plt_epoch, plt_acc, color='c', linewidth=4, label='Training Dataset')\n",
        "plt.plot(plt_epoch, plt_val_acc, color='m', linewidth=4, label='Test Dataset')\n",
        "plt.xlim(1, epochs)\n",
        "plt.ylim(0.41, 1.0)\n",
        "plt.xticks(np.arange(0, num_epochs+1, 10, dtype=int))\n",
        "plt.legend(loc='lower right', fontsize=15)\n",
        "plt.xlabel(r'$Epochs$', fontsize=15)\n",
        "plt.ylabel(r'$Accuracy$', fontsize=15)\n",
        "plt.grid(True)\n",
        "plt.show()"
      ],
      "execution_count": 0,
      "outputs": [
        {
          "output_type": "display_data",
          "data": {
            "image/png": "[encoded data removed]",
            "text/plain": [
              "<matplotlib.figure.Figure at 0x7effe5533208>"
            ]
          },
          "metadata": {
            "tags": []
          }
        }
      ]
    },
    {
      "metadata": {
        "id": "5SsdO9qT8gHm",
        "colab_type": "code",
        "outputId": "2ffb0a75-db31-479b-af02-f36d439a5e29",
        "colab": {
          "base_uri": "https://localhost:8080/",
          "height": 397
        }
      },
      "cell_type": "code",
      "source": [
        "plt.figure(1, figsize=(10, 6))\n",
        "plt.plot(plt_epoch, plt_val_loss, color='m', linewidth=4, label='Test Dataset')\n",
        "plt.plot(plt_epoch, plt_loss, color='c', linewidth=4, label='Training Dataset')\n",
        "plt.xlim(1, epochs)\n",
        "plt.xticks(np.arange(0, num_epochs+1, 10, dtype=int))\n",
        "plt.legend(loc='upper left', fontsize=15)\n",
        "plt.xlabel(r'$Epochs$', fontsize=15)\n",
        "plt.ylabel(r'$Loss$', fontsize=15)\n",
        "plt.grid(True)\n",
        "plt.show()"
      ],
      "execution_count": 0,
      "outputs": [
        {
          "output_type": "display_data",
          "data": {
            "image/png": "[encoded data removed]",
            "text/plain": [
              "<matplotlib.figure.Figure at 0x7effe545db00>"
            ]
          },
          "metadata": {
            "tags": []
          }
        }
      ]
    }
  ]
}