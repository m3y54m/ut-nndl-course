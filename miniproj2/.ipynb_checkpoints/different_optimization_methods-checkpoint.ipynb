{
 "cells": [
  {
   "cell_type": "code",
   "execution_count": 1,
   "metadata": {
    "colab": {
     "base_uri": "https://localhost:8080/",
     "height": 34
    },
    "colab_type": "code",
    "id": "KDgmzfzkPegg",
    "outputId": "076a7992-be94-41f2-f0c8-7c92f0e5b523"
   },
   "outputs": [],
   "source": [
    "import tensorflow.keras as keras\n",
    "import tensorflow.keras.backend as K\n",
    "from tensorflow.keras.models import Sequential\n",
    "from tensorflow.keras.layers import Dense, Activation, Embedding, Dropout, TimeDistributed, Flatten\n",
    "from tensorflow.keras.layers import LSTM, GRU, RNN\n",
    "import numpy as np\n",
    "import matplotlib.pyplot as plt"
   ]
  },
  {
   "cell_type": "code",
   "execution_count": 2,
   "metadata": {
    "colab": {
     "base_uri": "https://localhost:8080/",
     "height": 72,
     "resources": {
      "http://localhost:8080/nbextensions/google.colab/files.js": {
       "data": "Ly8gQ29weXJpZ2h0IDIwMTcgR29vZ2xlIExMQwovLwovLyBMaWNlbnNlZCB1bmRlciB0aGUgQXBhY2hlIExpY2Vuc2UsIFZlcnNpb24gMi4wICh0aGUgIkxpY2Vuc2UiKTsKLy8geW91IG1heSBub3QgdXNlIHRoaXMgZmlsZSBleGNlcHQgaW4gY29tcGxpYW5jZSB3aXRoIHRoZSBMaWNlbnNlLgovLyBZb3UgbWF5IG9idGFpbiBhIGNvcHkgb2YgdGhlIExpY2Vuc2UgYXQKLy8KLy8gICAgICBodHRwOi8vd3d3LmFwYWNoZS5vcmcvbGljZW5zZXMvTElDRU5TRS0yLjAKLy8KLy8gVW5sZXNzIHJlcXVpcmVkIGJ5IGFwcGxpY2FibGUgbGF3IG9yIGFncmVlZCB0byBpbiB3cml0aW5nLCBzb2Z0d2FyZQovLyBkaXN0cmlidXRlZCB1bmRlciB0aGUgTGljZW5zZSBpcyBkaXN0cmlidXRlZCBvbiBhbiAiQVMgSVMiIEJBU0lTLAovLyBXSVRIT1VUIFdBUlJBTlRJRVMgT1IgQ09ORElUSU9OUyBPRiBBTlkgS0lORCwgZWl0aGVyIGV4cHJlc3Mgb3IgaW1wbGllZC4KLy8gU2VlIHRoZSBMaWNlbnNlIGZvciB0aGUgc3BlY2lmaWMgbGFuZ3VhZ2UgZ292ZXJuaW5nIHBlcm1pc3Npb25zIGFuZAovLyBsaW1pdGF0aW9ucyB1bmRlciB0aGUgTGljZW5zZS4KCi8qKgogKiBAZmlsZW92ZXJ2aWV3IEhlbHBlcnMgZm9yIGdvb2dsZS5jb2xhYiBQeXRob24gbW9kdWxlLgogKi8KKGZ1bmN0aW9uKHNjb3BlKSB7CmZ1bmN0aW9uIHNwYW4odGV4dCwgc3R5bGVBdHRyaWJ1dGVzID0ge30pIHsKICBjb25zdCBlbGVtZW50ID0gZG9jdW1lbnQuY3JlYXRlRWxlbWVudCgnc3BhbicpOwogIGVsZW1lbnQudGV4dENvbnRlbnQgPSB0ZXh0OwogIGZvciAoY29uc3Qga2V5IG9mIE9iamVjdC5rZXlzKHN0eWxlQXR0cmlidXRlcykpIHsKICAgIGVsZW1lbnQuc3R5bGVba2V5XSA9IHN0eWxlQXR0cmlidXRlc1trZXldOwogIH0KICByZXR1cm4gZWxlbWVudDsKfQoKLy8gTWF4IG51bWJlciBvZiBieXRlcyB3aGljaCB3aWxsIGJlIHVwbG9hZGVkIGF0IGEgdGltZS4KY29uc3QgTUFYX1BBWUxPQURfU0laRSA9IDEwMCAqIDEwMjQ7Ci8vIE1heCBhbW91bnQgb2YgdGltZSB0byBibG9jayB3YWl0aW5nIGZvciB0aGUgdXNlci4KY29uc3QgRklMRV9DSEFOR0VfVElNRU9VVF9NUyA9IDMwICogMTAwMDsKCmZ1bmN0aW9uIF91cGxvYWRGaWxlcyhpbnB1dElkLCBvdXRwdXRJZCkgewogIGNvbnN0IHN0ZXBzID0gdXBsb2FkRmlsZXNTdGVwKGlucHV0SWQsIG91dHB1dElkKTsKICBjb25zdCBvdXRwdXRFbGVtZW50ID0gZG9jdW1lbnQuZ2V0RWxlbWVudEJ5SWQob3V0cHV0SWQpOwogIC8vIENhY2hlIHN0ZXBzIG9uIHRoZSBvdXRwdXRFbGVtZW50IHRvIG1ha2UgaXQgYXZhaWxhYmxlIGZvciB0aGUgbmV4dCBjYWxsCiAgLy8gdG8gdXBsb2FkRmlsZXNDb250aW51ZSBmcm9tIFB5dGhvbi4KICBvdXRwdXRFbGVtZW50LnN0ZXBzID0gc3RlcHM7CgogIHJldHVybiBfdXBsb2FkRmlsZXNDb250aW51ZShvdXRwdXRJZCk7Cn0KCi8vIFRoaXMgaXMgcm91Z2hseSBhbiBhc3luYyBnZW5lcmF0b3IgKG5vdCBzdXBwb3J0ZWQgaW4gdGhlIGJyb3dzZXIgeWV0KSwKLy8gd2hlcmUgdGhlcmUgYXJlIG11bHRpcGxlIGFzeW5jaHJvbm91cyBzdGVwcyBhbmQgdGhlIFB5dGhvbiBzaWRlIGlzIGdvaW5nCi8vIHRvIHBvbGwgZm9yIGNvbXBsZXRpb24gb2YgZWFjaCBzdGVwLgovLyBUaGlzIHVzZXMgYSBQcm9taXNlIHRvIGJsb2NrIHRoZSBweXRob24gc2lkZSBvbiBjb21wbGV0aW9uIG9mIGVhY2ggc3RlcCwKLy8gdGhlbiBwYXNzZXMgdGhlIHJlc3VsdCBvZiB0aGUgcHJldmlvdXMgc3RlcCBhcyB0aGUgaW5wdXQgdG8gdGhlIG5leHQgc3RlcC4KZnVuY3Rpb24gX3VwbG9hZEZpbGVzQ29udGludWUob3V0cHV0SWQpIHsKICBjb25zdCBvdXRwdXRFbGVtZW50ID0gZG9jdW1lbnQuZ2V0RWxlbWVudEJ5SWQob3V0cHV0SWQpOwogIGNvbnN0IHN0ZXBzID0gb3V0cHV0RWxlbWVudC5zdGVwczsKCiAgY29uc3QgbmV4dCA9IHN0ZXBzLm5leHQob3V0cHV0RWxlbWVudC5sYXN0UHJvbWlzZVZhbHVlKTsKICByZXR1cm4gUHJvbWlzZS5yZXNvbHZlKG5leHQudmFsdWUucHJvbWlzZSkudGhlbigodmFsdWUpID0+IHsKICAgIC8vIENhY2hlIHRoZSBsYXN0IHByb21pc2UgdmFsdWUgdG8gbWFrZSBpdCBhdmFpbGFibGUgdG8gdGhlIG5leHQKICAgIC8vIHN0ZXAgb2YgdGhlIGdlbmVyYXRvci4KICAgIG91dHB1dEVsZW1lbnQubGFzdFByb21pc2VWYWx1ZSA9IHZhbHVlOwogICAgcmV0dXJuIG5leHQudmFsdWUucmVzcG9uc2U7CiAgfSk7Cn0KCi8qKgogKiBHZW5lcmF0b3IgZnVuY3Rpb24gd2hpY2ggaXMgY2FsbGVkIGJldHdlZW4gZWFjaCBhc3luYyBzdGVwIG9mIHRoZSB1cGxvYWQKICogcHJvY2Vzcy4KICogQHBhcmFtIHtzdHJpbmd9IGlucHV0SWQgRWxlbWVudCBJRCBvZiB0aGUgaW5wdXQgZmlsZSBwaWNrZXIgZWxlbWVudC4KICogQHBhcmFtIHtzdHJpbmd9IG91dHB1dElkIEVsZW1lbnQgSUQgb2YgdGhlIG91dHB1dCBkaXNwbGF5LgogKiBAcmV0dXJuIHshSXRlcmFibGU8IU9iamVjdD59IEl0ZXJhYmxlIG9mIG5leHQgc3RlcHMuCiAqLwpmdW5jdGlvbiogdXBsb2FkRmlsZXNTdGVwKGlucHV0SWQsIG91dHB1dElkKSB7CiAgY29uc3QgaW5wdXRFbGVtZW50ID0gZG9jdW1lbnQuZ2V0RWxlbWVudEJ5SWQoaW5wdXRJZCk7CiAgaW5wdXRFbGVtZW50LmRpc2FibGVkID0gZmFsc2U7CgogIGNvbnN0IG91dHB1dEVsZW1lbnQgPSBkb2N1bWVudC5nZXRFbGVtZW50QnlJZChvdXRwdXRJZCk7CiAgb3V0cHV0RWxlbWVudC5pbm5lckhUTUwgPSAnJzsKCiAgY29uc3QgcGlja2VkUHJvbWlzZSA9IG5ldyBQcm9taXNlKChyZXNvbHZlKSA9PiB7CiAgICBpbnB1dEVsZW1lbnQuYWRkRXZlbnRMaXN0ZW5lcignY2hhbmdlJywgKGUpID0+IHsKICAgICAgcmVzb2x2ZShlLnRhcmdldC5maWxlcyk7CiAgICB9KTsKICB9KTsKCiAgY29uc3QgY2FuY2VsID0gZG9jdW1lbnQuY3JlYXRlRWxlbWVudCgnYnV0dG9uJyk7CiAgaW5wdXRFbGVtZW50LnBhcmVudEVsZW1lbnQuYXBwZW5kQ2hpbGQoY2FuY2VsKTsKICBjYW5jZWwudGV4dENvbnRlbnQgPSAnQ2FuY2VsIHVwbG9hZCc7CiAgY29uc3QgY2FuY2VsUHJvbWlzZSA9IG5ldyBQcm9taXNlKChyZXNvbHZlKSA9PiB7CiAgICBjYW5jZWwub25jbGljayA9ICgpID0+IHsKICAgICAgcmVzb2x2ZShudWxsKTsKICAgIH07CiAgfSk7CgogIC8vIENhbmNlbCB1cGxvYWQgaWYgdXNlciBoYXNuJ3QgcGlja2VkIGFueXRoaW5nIGluIHRpbWVvdXQuCiAgY29uc3QgdGltZW91dFByb21pc2UgPSBuZXcgUHJvbWlzZSgocmVzb2x2ZSkgPT4gewogICAgc2V0VGltZW91dCgoKSA9PiB7CiAgICAgIHJlc29sdmUobnVsbCk7CiAgICB9LCBGSUxFX0NIQU5HRV9USU1FT1VUX01TKTsKICB9KTsKCiAgLy8gV2FpdCBmb3IgdGhlIHVzZXIgdG8gcGljayB0aGUgZmlsZXMuCiAgY29uc3QgZmlsZXMgPSB5aWVsZCB7CiAgICBwcm9taXNlOiBQcm9taXNlLnJhY2UoW3BpY2tlZFByb21pc2UsIHRpbWVvdXRQcm9taXNlLCBjYW5jZWxQcm9taXNlXSksCiAgICByZXNwb25zZTogewogICAgICBhY3Rpb246ICdzdGFydGluZycsCiAgICB9CiAgfTsKCiAgaWYgKCFmaWxlcykgewogICAgcmV0dXJuIHsKICAgICAgcmVzcG9uc2U6IHsKICAgICAgICBhY3Rpb246ICdjb21wbGV0ZScsCiAgICAgIH0KICAgIH07CiAgfQoKICBjYW5jZWwucmVtb3ZlKCk7CgogIC8vIERpc2FibGUgdGhlIGlucHV0IGVsZW1lbnQgc2luY2UgZnVydGhlciBwaWNrcyBhcmUgbm90IGFsbG93ZWQuCiAgaW5wdXRFbGVtZW50LmRpc2FibGVkID0gdHJ1ZTsKCiAgZm9yIChjb25zdCBmaWxlIG9mIGZpbGVzKSB7CiAgICBjb25zdCBsaSA9IGRvY3VtZW50LmNyZWF0ZUVsZW1lbnQoJ2xpJyk7CiAgICBsaS5hcHBlbmQoc3BhbihmaWxlLm5hbWUsIHtmb250V2VpZ2h0OiAnYm9sZCd9KSk7CiAgICBsaS5hcHBlbmQoc3BhbigKICAgICAgICBgKCR7ZmlsZS50eXBlIHx8ICduL2EnfSkgLSAke2ZpbGUuc2l6ZX0gYnl0ZXMsIGAgKwogICAgICAgIGBsYXN0IG1vZGlmaWVkOiAkewogICAgICAgICAgICBmaWxlLmxhc3RNb2RpZmllZERhdGUgPyBmaWxlLmxhc3RNb2RpZmllZERhdGUudG9Mb2NhbGVEYXRlU3RyaW5nKCkgOgogICAgICAgICAgICAgICAgICAgICAgICAgICAgICAgICAgICAnbi9hJ30gLSBgKSk7CiAgICBjb25zdCBwZXJjZW50ID0gc3BhbignMCUgZG9uZScpOwogICAgbGkuYXBwZW5kQ2hpbGQocGVyY2VudCk7CgogICAgb3V0cHV0RWxlbWVudC5hcHBlbmRDaGlsZChsaSk7CgogICAgY29uc3QgZmlsZURhdGFQcm9taXNlID0gbmV3IFByb21pc2UoKHJlc29sdmUpID0+IHsKICAgICAgY29uc3QgcmVhZGVyID0gbmV3IEZpbGVSZWFkZXIoKTsKICAgICAgcmVhZGVyLm9ubG9hZCA9IChlKSA9PiB7CiAgICAgICAgcmVzb2x2ZShlLnRhcmdldC5yZXN1bHQpOwogICAgICB9OwogICAgICByZWFkZXIucmVhZEFzQXJyYXlCdWZmZXIoZmlsZSk7CiAgICB9KTsKICAgIC8vIFdhaXQgZm9yIHRoZSBkYXRhIHRvIGJlIHJlYWR5LgogICAgbGV0IGZpbGVEYXRhID0geWllbGQgewogICAgICBwcm9taXNlOiBmaWxlRGF0YVByb21pc2UsCiAgICAgIHJlc3BvbnNlOiB7CiAgICAgICAgYWN0aW9uOiAnY29udGludWUnLAogICAgICB9CiAgICB9OwoKICAgIC8vIFVzZSBhIGNodW5rZWQgc2VuZGluZyB0byBhdm9pZCBtZXNzYWdlIHNpemUgbGltaXRzLiBTZWUgYi82MjExNTY2MC4KICAgIGxldCBwb3NpdGlvbiA9IDA7CiAgICB3aGlsZSAocG9zaXRpb24gPCBmaWxlRGF0YS5ieXRlTGVuZ3RoKSB7CiAgICAgIGNvbnN0IGxlbmd0aCA9IE1hdGgubWluKGZpbGVEYXRhLmJ5dGVMZW5ndGggLSBwb3NpdGlvbiwgTUFYX1BBWUxPQURfU0laRSk7CiAgICAgIGNvbnN0IGNodW5rID0gbmV3IFVpbnQ4QXJyYXkoZmlsZURhdGEsIHBvc2l0aW9uLCBsZW5ndGgpOwogICAgICBwb3NpdGlvbiArPSBsZW5ndGg7CgogICAgICBjb25zdCBiYXNlNjQgPSBidG9hKFN0cmluZy5mcm9tQ2hhckNvZGUuYXBwbHkobnVsbCwgY2h1bmspKTsKICAgICAgeWllbGQgewogICAgICAgIHJlc3BvbnNlOiB7CiAgICAgICAgICBhY3Rpb246ICdhcHBlbmQnLAogICAgICAgICAgZmlsZTogZmlsZS5uYW1lLAogICAgICAgICAgZGF0YTogYmFzZTY0LAogICAgICAgIH0sCiAgICAgIH07CiAgICAgIHBlcmNlbnQudGV4dENvbnRlbnQgPQogICAgICAgICAgYCR7TWF0aC5yb3VuZCgocG9zaXRpb24gLyBmaWxlRGF0YS5ieXRlTGVuZ3RoKSAqIDEwMCl9JSBkb25lYDsKICAgIH0KICB9CgogIC8vIEFsbCBkb25lLgogIHlpZWxkIHsKICAgIHJlc3BvbnNlOiB7CiAgICAgIGFjdGlvbjogJ2NvbXBsZXRlJywKICAgIH0KICB9Owp9CgpzY29wZS5nb29nbGUgPSBzY29wZS5nb29nbGUgfHwge307CnNjb3BlLmdvb2dsZS5jb2xhYiA9IHNjb3BlLmdvb2dsZS5jb2xhYiB8fCB7fTsKc2NvcGUuZ29vZ2xlLmNvbGFiLl9maWxlcyA9IHsKICBfdXBsb2FkRmlsZXMsCiAgX3VwbG9hZEZpbGVzQ29udGludWUsCn07Cn0pKHNlbGYpOwo=",
       "headers": [
        [
         "content-type",
         "application/javascript"
        ]
       ],
       "ok": true,
       "status": 200,
       "status_text": ""
      }
     }
    },
    "colab_type": "code",
    "id": "5vsic5ShP1NP",
    "outputId": "e272f210-109f-4abc-8494-ffc74db34f46"
   },
   "outputs": [],
   "source": [
    "# import data into a dataframe\n",
    "data = np.load('polution_dataSet.npy')"
   ]
  },
  {
   "cell_type": "code",
   "execution_count": 3,
   "metadata": {
    "colab": {},
    "colab_type": "code",
    "id": "DpPotifvPrJZ"
   },
   "outputs": [],
   "source": [
    "'''\n",
    "IN this part data for test, validation and train is preperd.\n",
    "'''\n",
    "# data format is : pollution  ,dew  ,temp  , press ,wnd_dir , wnd_spd , snow , rain\n",
    "# total data =43000\n",
    "# per day and week = 43000/24*7 =250\n",
    "\n",
    "SAMPLE_DISTANCE = 1      # if 1 sample per hour, if 24 per day, if 24*7 per week\n",
    "TRAIN_SIZE = 7000\n",
    "VAL_SIZE = 1000\n",
    "TEST_SIZE = 2000\n",
    "TIMESTEPS = 24           # timesteps used for a single prediction (here each timestep is an hour)"
   ]
  },
  {
   "cell_type": "code",
   "execution_count": 4,
   "metadata": {
    "colab": {},
    "colab_type": "code",
    "id": "ubO-eFN-QF9H"
   },
   "outputs": [],
   "source": [
    "x_train = []\n",
    "y_train = []\n",
    "for i in range(TRAIN_SIZE):\n",
    "    x_train.append(np.array(data[i*SAMPLE_DISTANCE:i*SAMPLE_DISTANCE+TIMESTEPS]))\n",
    "    y_train.append(np.array(data[i*SAMPLE_DISTANCE+TIMESTEPS, 0]))\n",
    "x_train = np.array(x_train)\n",
    "y_train = np.array(y_train)"
   ]
  },
  {
   "cell_type": "code",
   "execution_count": 5,
   "metadata": {
    "colab": {},
    "colab_type": "code",
    "id": "fa1zHRcDQGxi"
   },
   "outputs": [],
   "source": [
    "x_val = []\n",
    "y_val = []\n",
    "for i in range(TRAIN_SIZE, TRAIN_SIZE+VAL_SIZE):\n",
    "    x_val.append(np.array(data[i*SAMPLE_DISTANCE:i*SAMPLE_DISTANCE+TIMESTEPS]))\n",
    "    y_val.append(np.array(data[i*SAMPLE_DISTANCE+TIMESTEPS, 0]))\n",
    "x_val = np.array(x_val)\n",
    "y_val = np.array(y_val)"
   ]
  },
  {
   "cell_type": "code",
   "execution_count": 6,
   "metadata": {
    "colab": {},
    "colab_type": "code",
    "id": "B_mkse2zQIqe"
   },
   "outputs": [],
   "source": [
    "x_test = []\n",
    "y_test = []\n",
    "for i in range(TRAIN_SIZE+VAL_SIZE, TRAIN_SIZE+VAL_SIZE+TEST_SIZE):\n",
    "    x_test.append(np.array(data[i*SAMPLE_DISTANCE:i*SAMPLE_DISTANCE+TIMESTEPS]))\n",
    "    y_test.append(np.array(data[i*SAMPLE_DISTANCE+TIMESTEPS, 0]))\n",
    "x_test = np.array(x_test)\n",
    "y_test = np.array(y_test)\n",
    "y_total = np.concatenate([y_train, y_val, y_test], axis=None)"
   ]
  },
  {
   "cell_type": "code",
   "execution_count": 7,
   "metadata": {
    "colab": {},
    "colab_type": "code",
    "id": "7fd6y35AQKcN"
   },
   "outputs": [],
   "source": [
    "'''\n",
    "In this part network is implemented \n",
    "'''\n",
    "# parameters\n",
    "BATCH_SIZE = 10\n",
    "NUM_EPOCHS = 20\n",
    "HIDDEN_SIZE = 40"
   ]
  },
  {
   "cell_type": "code",
   "execution_count": 8,
   "metadata": {
    "colab": {},
    "colab_type": "code",
    "id": "DJhUpbzpQMyG"
   },
   "outputs": [
    {
     "name": "stdout",
     "output_type": "stream",
     "text": [
      "_________________________________________________________________\n",
      "Layer (type)                 Output Shape              Param #   \n",
      "=================================================================\n",
      "lstm (LSTM)                  (None, 40)                7840      \n",
      "_________________________________________________________________\n",
      "dense (Dense)                (None, 1)                 41        \n",
      "=================================================================\n",
      "Total params: 7,881\n",
      "Trainable params: 7,881\n",
      "Non-trainable params: 0\n",
      "_________________________________________________________________\n",
      "Train on 7000 samples, validate on 1000 samples\n",
      "Epoch 1/20\n",
      "7000/7000 [==============================] - 13s 2ms/step - loss: 0.0289 - val_loss: 0.0197\n",
      "Epoch 2/20\n",
      "7000/7000 [==============================] - 11s 2ms/step - loss: 0.0179 - val_loss: 0.0151\n",
      "Epoch 3/20\n",
      "7000/7000 [==============================] - 11s 2ms/step - loss: 0.0158 - val_loss: 0.0142\n",
      "Epoch 4/20\n",
      "7000/7000 [==============================] - 11s 2ms/step - loss: 0.0154 - val_loss: 0.0147\n",
      "Epoch 5/20\n",
      "7000/7000 [==============================] - 11s 2ms/step - loss: 0.0149 - val_loss: 0.0135\n",
      "Epoch 6/20\n",
      "7000/7000 [==============================] - 11s 2ms/step - loss: 0.0150 - val_loss: 0.0185\n",
      "Epoch 7/20\n",
      "7000/7000 [==============================] - 12s 2ms/step - loss: 0.0151 - val_loss: 0.0153\n",
      "Epoch 8/20\n",
      "7000/7000 [==============================] - 11s 2ms/step - loss: 0.0147 - val_loss: 0.0138\n",
      "Epoch 9/20\n",
      "7000/7000 [==============================] - 11s 2ms/step - loss: 0.0147 - val_loss: 0.0148\n",
      "Epoch 10/20\n",
      "7000/7000 [==============================] - 11s 2ms/step - loss: 0.0146 - val_loss: 0.0149\n",
      "Epoch 11/20\n",
      "7000/7000 [==============================] - 11s 2ms/step - loss: 0.0145 - val_loss: 0.0139\n",
      "Epoch 12/20\n",
      "7000/7000 [==============================] - 11s 2ms/step - loss: 0.0145 - val_loss: 0.0152\n",
      "Epoch 13/20\n",
      "7000/7000 [==============================] - 11s 2ms/step - loss: 0.0148 - val_loss: 0.0141\n",
      "Epoch 14/20\n",
      "7000/7000 [==============================] - 11s 2ms/step - loss: 0.0143 - val_loss: 0.0137\n",
      "Epoch 15/20\n",
      "7000/7000 [==============================] - 11s 2ms/step - loss: 0.0143 - val_loss: 0.0140\n",
      "Epoch 16/20\n",
      "7000/7000 [==============================] - 11s 2ms/step - loss: 0.0143 - val_loss: 0.0144\n",
      "Epoch 17/20\n",
      "7000/7000 [==============================] - 12s 2ms/step - loss: 0.0143 - val_loss: 0.0138\n",
      "Epoch 18/20\n",
      "7000/7000 [==============================] - 11s 2ms/step - loss: 0.0142 - val_loss: 0.0143\n",
      "Epoch 19/20\n",
      "7000/7000 [==============================] - 11s 2ms/step - loss: 0.0142 - val_loss: 0.0137\n",
      "Epoch 20/20\n",
      "7000/7000 [==============================] - 11s 2ms/step - loss: 0.0143 - val_loss: 0.0141\n"
     ]
    }
   ],
   "source": [
    "K.clear_session()\n",
    "# keras modeling\n",
    "model = Sequential()\n",
    "model.add(LSTM(HIDDEN_SIZE,  input_shape=(TIMESTEPS, 8), return_sequences=False,activation='tanh', recurrent_activation='hard_sigmoid', use_bias=True, dropout=0.0, recurrent_dropout=0.0))\n",
    "model.add(Dense(1))\n",
    "model.compile(loss='mae', optimizer='adam')\n",
    "model.summary()\n",
    "\n",
    "history1 = model.fit(x_train, y_train, batch_size=BATCH_SIZE, epochs=NUM_EPOCHS, verbose=1, validation_data=(x_val, y_val))\n",
    "\n",
    "y_train1 = model.predict(x_train, batch_size=BATCH_SIZE)\n",
    "y_val1 = model.predict(x_val, batch_size=BATCH_SIZE)\n",
    "y_pred1 = model.predict(x_test, batch_size=BATCH_SIZE)"
   ]
  },
  {
   "cell_type": "code",
   "execution_count": 9,
   "metadata": {},
   "outputs": [
    {
     "name": "stdout",
     "output_type": "stream",
     "text": [
      "_________________________________________________________________\n",
      "Layer (type)                 Output Shape              Param #   \n",
      "=================================================================\n",
      "lstm (LSTM)                  (None, 40)                7840      \n",
      "_________________________________________________________________\n",
      "dense (Dense)                (None, 1)                 41        \n",
      "=================================================================\n",
      "Total params: 7,881\n",
      "Trainable params: 7,881\n",
      "Non-trainable params: 0\n",
      "_________________________________________________________________\n",
      "Train on 7000 samples, validate on 1000 samples\n",
      "Epoch 1/20\n",
      "7000/7000 [==============================] - 13s 2ms/step - loss: 0.0302 - val_loss: 0.0215\n",
      "Epoch 2/20\n",
      "7000/7000 [==============================] - 11s 2ms/step - loss: 0.0195 - val_loss: 0.0180\n",
      "Epoch 3/20\n",
      "7000/7000 [==============================] - 11s 2ms/step - loss: 0.0171 - val_loss: 0.0155\n",
      "Epoch 4/20\n",
      "7000/7000 [==============================] - 11s 2ms/step - loss: 0.0163 - val_loss: 0.0143\n",
      "Epoch 5/20\n",
      "7000/7000 [==============================] - 11s 2ms/step - loss: 0.0159 - val_loss: 0.0139\n",
      "Epoch 6/20\n",
      "7000/7000 [==============================] - 11s 2ms/step - loss: 0.0155 - val_loss: 0.0161\n",
      "Epoch 7/20\n",
      "7000/7000 [==============================] - 11s 2ms/step - loss: 0.0154 - val_loss: 0.0162\n",
      "Epoch 8/20\n",
      "7000/7000 [==============================] - 11s 2ms/step - loss: 0.0153 - val_loss: 0.0198\n",
      "Epoch 9/20\n",
      "7000/7000 [==============================] - 11s 2ms/step - loss: 0.0150 - val_loss: 0.0150\n",
      "Epoch 10/20\n",
      "7000/7000 [==============================] - 11s 2ms/step - loss: 0.0150 - val_loss: 0.0157\n",
      "Epoch 11/20\n",
      "7000/7000 [==============================] - 11s 2ms/step - loss: 0.0148 - val_loss: 0.0134\n",
      "Epoch 12/20\n",
      "7000/7000 [==============================] - 11s 2ms/step - loss: 0.0148 - val_loss: 0.0154\n",
      "Epoch 13/20\n",
      "7000/7000 [==============================] - 12s 2ms/step - loss: 0.0147 - val_loss: 0.0165\n",
      "Epoch 14/20\n",
      "7000/7000 [==============================] - 12s 2ms/step - loss: 0.0146 - val_loss: 0.0135\n",
      "Epoch 15/20\n",
      "7000/7000 [==============================] - 12s 2ms/step - loss: 0.0146 - val_loss: 0.0136\n",
      "Epoch 16/20\n",
      "7000/7000 [==============================] - 12s 2ms/step - loss: 0.0146 - val_loss: 0.0137\n",
      "Epoch 17/20\n",
      "7000/7000 [==============================] - 11s 2ms/step - loss: 0.0145 - val_loss: 0.0140\n",
      "Epoch 18/20\n",
      "7000/7000 [==============================] - 11s 2ms/step - loss: 0.0144 - val_loss: 0.0150\n",
      "Epoch 19/20\n",
      "7000/7000 [==============================] - 11s 2ms/step - loss: 0.0144 - val_loss: 0.0140\n",
      "Epoch 20/20\n",
      "7000/7000 [==============================] - 11s 2ms/step - loss: 0.0145 - val_loss: 0.0139\n"
     ]
    }
   ],
   "source": [
    "K.clear_session()\n",
    "# keras modeling\n",
    "model = Sequential()\n",
    "model.add(LSTM(HIDDEN_SIZE,  input_shape=(TIMESTEPS, 8), return_sequences=False,activation='tanh', recurrent_activation='hard_sigmoid', use_bias=True, dropout=0.0, recurrent_dropout=0.0))\n",
    "model.add(Dense(1))\n",
    "model.compile(loss='mae', optimizer='rmsprop')\n",
    "model.summary()\n",
    "\n",
    "history2 = model.fit(x_train, y_train, batch_size=BATCH_SIZE, epochs=NUM_EPOCHS, verbose=1, validation_data=(x_val, y_val))\n",
    "\n",
    "y_train2 = model.predict(x_train, batch_size=BATCH_SIZE)\n",
    "y_val2 = model.predict(x_val, batch_size=BATCH_SIZE)\n",
    "y_pred2 = model.predict(x_test, batch_size=BATCH_SIZE)"
   ]
  },
  {
   "cell_type": "code",
   "execution_count": 10,
   "metadata": {},
   "outputs": [
    {
     "name": "stdout",
     "output_type": "stream",
     "text": [
      "_________________________________________________________________\n",
      "Layer (type)                 Output Shape              Param #   \n",
      "=================================================================\n",
      "lstm (LSTM)                  (None, 40)                7840      \n",
      "_________________________________________________________________\n",
      "dense (Dense)                (None, 1)                 41        \n",
      "=================================================================\n",
      "Total params: 7,881\n",
      "Trainable params: 7,881\n",
      "Non-trainable params: 0\n",
      "_________________________________________________________________\n",
      "Train on 7000 samples, validate on 1000 samples\n",
      "Epoch 1/20\n",
      "7000/7000 [==============================] - 13s 2ms/step - loss: 0.0572 - val_loss: 0.0556\n",
      "Epoch 2/20\n",
      "7000/7000 [==============================] - 11s 2ms/step - loss: 0.0376 - val_loss: 0.0438\n",
      "Epoch 3/20\n",
      "7000/7000 [==============================] - 11s 2ms/step - loss: 0.0313 - val_loss: 0.0335\n",
      "Epoch 4/20\n",
      "7000/7000 [==============================] - 11s 2ms/step - loss: 0.0289 - val_loss: 0.0291\n",
      "Epoch 5/20\n",
      "7000/7000 [==============================] - 11s 2ms/step - loss: 0.0266 - val_loss: 0.0277\n",
      "Epoch 6/20\n",
      "7000/7000 [==============================] - 11s 2ms/step - loss: 0.0259 - val_loss: 0.0267\n",
      "Epoch 7/20\n",
      "7000/7000 [==============================] - 11s 2ms/step - loss: 0.0251 - val_loss: 0.0307\n",
      "Epoch 8/20\n",
      "7000/7000 [==============================] - 11s 2ms/step - loss: 0.0239 - val_loss: 0.0328\n",
      "Epoch 9/20\n",
      "7000/7000 [==============================] - 11s 2ms/step - loss: 0.0233 - val_loss: 0.0237\n",
      "Epoch 10/20\n",
      "7000/7000 [==============================] - 11s 2ms/step - loss: 0.0226 - val_loss: 0.0254\n",
      "Epoch 11/20\n",
      "7000/7000 [==============================] - 11s 2ms/step - loss: 0.0221 - val_loss: 0.0262\n",
      "Epoch 12/20\n",
      "7000/7000 [==============================] - 11s 2ms/step - loss: 0.0215 - val_loss: 0.0233\n",
      "Epoch 13/20\n",
      "7000/7000 [==============================] - 11s 2ms/step - loss: 0.0214 - val_loss: 0.0227\n",
      "Epoch 14/20\n",
      "7000/7000 [==============================] - 10s 1ms/step - loss: 0.0210 - val_loss: 0.0226\n",
      "Epoch 15/20\n",
      "7000/7000 [==============================] - 11s 2ms/step - loss: 0.0206 - val_loss: 0.0222\n",
      "Epoch 16/20\n",
      "7000/7000 [==============================] - 10s 1ms/step - loss: 0.0206 - val_loss: 0.0239\n",
      "Epoch 17/20\n",
      "7000/7000 [==============================] - 10s 1ms/step - loss: 0.0200 - val_loss: 0.0292\n",
      "Epoch 18/20\n",
      "7000/7000 [==============================] - 10s 1ms/step - loss: 0.0201 - val_loss: 0.0216\n",
      "Epoch 19/20\n",
      "7000/7000 [==============================] - 10s 1ms/step - loss: 0.0196 - val_loss: 0.0233\n",
      "Epoch 20/20\n",
      "7000/7000 [==============================] - 11s 2ms/step - loss: 0.0196 - val_loss: 0.0221\n"
     ]
    }
   ],
   "source": [
    "K.clear_session()\n",
    "# keras modeling\n",
    "model = Sequential()\n",
    "model.add(LSTM(HIDDEN_SIZE,  input_shape=(TIMESTEPS, 8), return_sequences=False,activation='tanh', recurrent_activation='hard_sigmoid', use_bias=True, dropout=0.0, recurrent_dropout=0.0))\n",
    "model.add(Dense(1))\n",
    "model.compile(loss='mae', optimizer='sgd')\n",
    "model.summary()\n",
    "\n",
    "history3 = model.fit(x_train, y_train, batch_size=BATCH_SIZE, epochs=NUM_EPOCHS, verbose=1, validation_data=(x_val, y_val))\n",
    "\n",
    "y_train3 = model.predict(x_train, batch_size=BATCH_SIZE)\n",
    "y_val3 = model.predict(x_val, batch_size=BATCH_SIZE)\n",
    "y_pred3 = model.predict(x_test, batch_size=BATCH_SIZE)"
   ]
  },
  {
   "cell_type": "code",
   "execution_count": 11,
   "metadata": {
    "colab": {
     "base_uri": "https://localhost:8080/",
     "height": 639
    },
    "colab_type": "code",
    "id": "ZFDpysqgQZ6c",
    "outputId": "638c3731-9981-44de-efb7-c8d1811849da"
   },
   "outputs": [
    {
     "data": {
      "image/png": "[encoded data removed]",
      "text/plain": [
       "<Figure size 700x700 with 1 Axes>"
      ]
     },
     "metadata": {
      "needs_background": "light"
     },
     "output_type": "display_data"
    }
   ],
   "source": [
    "plt.figure(1, figsize=(7, 7), dpi=100)\n",
    "plt.style.use(['default'])\n",
    "plt.plot(np.arange(1,NUM_EPOCHS+1,1), history1.history['loss'], label='Adam')\n",
    "plt.plot(np.arange(1,NUM_EPOCHS+1,1), history2.history['loss'], label='RMSprop')\n",
    "plt.plot(np.arange(1,NUM_EPOCHS+1,1), history3.history['loss'], label='Gradient Descent')\n",
    "plt.xticks(np.arange(1, NUM_EPOCHS+1, 1, dtype=int))\n",
    "plt.xlim(1, NUM_EPOCHS)\n",
    "plt.xlabel('Epochs')\n",
    "plt.ylabel('Loss')\n",
    "plt.title('Comparing Loss Functions', fontsize=11)\n",
    "plt.legend()\n",
    "plt.show()"
   ]
  },
  {
   "cell_type": "code",
   "execution_count": null,
   "metadata": {},
   "outputs": [],
   "source": []
  }
 ],
 "metadata": {
  "colab": {
   "collapsed_sections": [],
   "name": "lstm_p1_last_24_hours.ipynb",
   "provenance": [],
   "version": "0.3.2"
  },
  "kernelspec": {
   "display_name": "Python 3",
   "language": "python",
   "name": "python3"
  },
  "language_info": {
   "codemirror_mode": {
    "name": "ipython",
    "version": 3
   },
   "file_extension": ".py",
   "mimetype": "text/x-python",
   "name": "python",
   "nbconvert_exporter": "python",
   "pygments_lexer": "ipython3",
   "version": "3.6.2"
  }
 },
 "nbformat": 4,
 "nbformat_minor": 1
}
