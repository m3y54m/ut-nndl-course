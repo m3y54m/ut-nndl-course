{
  "nbformat": 4,
  "nbformat_minor": 0,
  "metadata": {
    "colab": {
      "name": "miniproj1-4-c.ipynb",
      "version": "0.3.2",
      "provenance": [],
      "collapsed_sections": [],
      "include_colab_link": true
    },
    "kernelspec": {
      "name": "python3",
      "display_name": "Python 3"
    },
    "accelerator": "GPU"
  },
  "cells": [
    {
      "cell_type": "markdown",
      "metadata": {
        "id": "view-in-github",
        "colab_type": "text"
      },
      "source": [
        "<a href=\"https://colab.research.google.com/github/m3y54m/ut-nndl-course/blob/master/miniproj1_4_c.ipynb\" target=\"_parent\"><img src=\"https://colab.research.google.com/assets/colab-badge.svg\" alt=\"Open In Colab\"/></a>"
      ]
    },
    {
      "metadata": {
        "id": "uBL6ftlEsPD7",
        "colab_type": "code",
        "outputId": "880bab61-b194-4ec8-bc5d-cc61581fa70e",
        "colab": {
          "base_uri": "https://localhost:8080/",
          "height": 51
        }
      },
      "cell_type": "code",
      "source": [
        "import numpy as np\n",
        "import matplotlib.pyplot as plt\n",
        "import tensorflow as tf\n",
        "\n",
        "from tensorflow.keras.models import Sequential\n",
        "from tensorflow.keras.layers import Dense, Dropout, Flatten, Conv2D, MaxPooling2D \n",
        "\n",
        "from tensorflow.keras.datasets import cifar10\n",
        "from tensorflow.keras.preprocessing.image import ImageDataGenerator\n",
        "\n",
        "import os\n",
        "\n",
        "print(tf.VERSION)\n",
        "print(tf.keras.__version__)"
      ],
      "execution_count": 0,
      "outputs": [
        {
          "output_type": "stream",
          "text": [
            "1.12.0\n",
            "2.1.6-tf\n"
          ],
          "name": "stdout"
        }
      ]
    },
    {
      "metadata": {
        "id": "-Dgr5TGesPEN",
        "colab_type": "code",
        "outputId": "e723b208-fef2-4703-9ab3-bf45544c9cc3",
        "colab": {
          "base_uri": "https://localhost:8080/",
          "height": 34
        }
      },
      "cell_type": "code",
      "source": [
        "# The data, split between train and test sets:\n",
        "(x_train, y_train), (x_test, y_test) = cifar10.load_data()\n",
        "print('x_train shape:', x_train.shape)"
      ],
      "execution_count": 0,
      "outputs": [
        {
          "output_type": "stream",
          "text": [
            "x_train shape: (50000, 32, 32, 3)\n"
          ],
          "name": "stdout"
        }
      ]
    },
    {
      "metadata": {
        "id": "sfOy0JehsPEI",
        "colab_type": "code",
        "outputId": "a028fa37-34d5-4cf9-c85c-1e626185b40b",
        "colab": {
          "base_uri": "https://localhost:8080/",
          "height": 51
        }
      },
      "cell_type": "code",
      "source": [
        "trainset_size = x_train.shape[0]\n",
        "testset_size = x_test.shape[0]\n",
        "batch_size = 100\n",
        "steps_per_epoch = np.ceil(trainset_size / batch_size).astype('int')\n",
        "num_classes = 10\n",
        "epochs = 10\n",
        "# input shape: (32, 32, 3)\n",
        "input_shape = x_train.shape[1:]\n",
        "\n",
        "data_augmentation = False\n",
        "#num_predictions = 20\n",
        "\n",
        "print(trainset_size, 'train samples')\n",
        "print(testset_size, 'test samples')"
      ],
      "execution_count": 0,
      "outputs": [
        {
          "output_type": "stream",
          "text": [
            "50000 train samples\n",
            "10000 test samples\n"
          ],
          "name": "stdout"
        }
      ]
    },
    {
      "metadata": {
        "id": "l2lnMZkIsPER",
        "colab_type": "code",
        "colab": {}
      },
      "cell_type": "code",
      "source": [
        "# Convert class vectors to binary (one-hot) class matrices.\n",
        "y_train = tf.keras.utils.to_categorical(y_train, num_classes)\n",
        "y_test = tf.keras.utils.to_categorical(y_test, num_classes)\n",
        "\n",
        "# Normalize input numbers\n",
        "x_train = x_train.astype('float32')\n",
        "x_test = x_test.astype('float32')\n",
        "x_train /= 255\n",
        "x_test /= 255"
      ],
      "execution_count": 0,
      "outputs": []
    },
    {
      "metadata": {
        "id": "80-OVycBsPEU",
        "colab_type": "code",
        "outputId": "49a27fbe-7114-4dc6-d20a-5bad9c0995f3",
        "colab": {
          "base_uri": "https://localhost:8080/",
          "height": 799
        }
      },
      "cell_type": "code",
      "source": [
        "tf.keras.backend.clear_session()\n",
        "\n",
        "model = Sequential()\n",
        "\n",
        "model.add(Conv2D(32, (3, 3), strides=(1, 1), padding='same', activation='relu', input_shape=input_shape))\n",
        "model.add(MaxPooling2D(pool_size=(2, 2)))\n",
        "#model.add(Dropout(0.25))\n",
        "model.add(Conv2D(64, (3, 3), strides=(1, 1), padding='same', activation='relu'))\n",
        "model.add(MaxPooling2D(pool_size=(2, 2)))\n",
        "#model.add(Dropout(0.25))\n",
        "model.add(Conv2D(128, (3, 3), strides=(1, 1), padding='same', activation='relu'))\n",
        "model.add(MaxPooling2D(pool_size=(2, 2)))\n",
        "#model.add(Dropout(0.25))\n",
        "model.add(Flatten())\n",
        "model.add(Dense(256, activation='relu'))\n",
        "#model.add(Dropout(0.5))\n",
        "model.add(Dense(num_classes, activation='softmax'))\n",
        "\n",
        "model.summary()\n",
        "\n",
        "# Let's train the model using AdamOptimizer\n",
        "model.compile(optimizer=tf.train.AdamOptimizer(0.001),\n",
        "              loss='categorical_crossentropy',\n",
        "              metrics=['accuracy'])\n",
        "\n",
        "results_for_relu = model.fit(x_train, y_train,\n",
        "                    batch_size=batch_size,\n",
        "                    epochs=epochs,\n",
        "                    validation_data=(x_test, y_test),\n",
        "                    shuffle=True)"
      ],
      "execution_count": 0,
      "outputs": [
        {
          "output_type": "stream",
          "text": [
            "_________________________________________________________________\n",
            "Layer (type)                 Output Shape              Param #   \n",
            "=================================================================\n",
            "conv2d (Conv2D)              (None, 32, 32, 32)        896       \n",
            "_________________________________________________________________\n",
            "max_pooling2d (MaxPooling2D) (None, 16, 16, 32)        0         \n",
            "_________________________________________________________________\n",
            "conv2d_1 (Conv2D)            (None, 16, 16, 64)        18496     \n",
            "_________________________________________________________________\n",
            "max_pooling2d_1 (MaxPooling2 (None, 8, 8, 64)          0         \n",
            "_________________________________________________________________\n",
            "conv2d_2 (Conv2D)            (None, 8, 8, 128)         73856     \n",
            "_________________________________________________________________\n",
            "max_pooling2d_2 (MaxPooling2 (None, 4, 4, 128)         0         \n",
            "_________________________________________________________________\n",
            "flatten (Flatten)            (None, 2048)              0         \n",
            "_________________________________________________________________\n",
            "dense (Dense)                (None, 256)               524544    \n",
            "_________________________________________________________________\n",
            "dense_1 (Dense)              (None, 10)                2570      \n",
            "=================================================================\n",
            "Total params: 620,362\n",
            "Trainable params: 620,362\n",
            "Non-trainable params: 0\n",
            "_________________________________________________________________\n",
            "Train on 50000 samples, validate on 10000 samples\n",
            "Epoch 1/10\n",
            "50000/50000 [==============================] - 9s 181us/step - loss: 1.4927 - acc: 0.4582 - val_loss: 1.1666 - val_acc: 0.5888\n",
            "Epoch 2/10\n",
            "50000/50000 [==============================] - 7s 140us/step - loss: 1.0485 - acc: 0.6331 - val_loss: 0.9799 - val_acc: 0.6595\n",
            "Epoch 3/10\n",
            "50000/50000 [==============================] - 7s 140us/step - loss: 0.8813 - acc: 0.6934 - val_loss: 0.8506 - val_acc: 0.7027\n",
            "Epoch 4/10\n",
            "50000/50000 [==============================] - 7s 140us/step - loss: 0.7678 - acc: 0.7330 - val_loss: 0.8251 - val_acc: 0.7182\n",
            "Epoch 5/10\n",
            "50000/50000 [==============================] - 7s 140us/step - loss: 0.6840 - acc: 0.7598 - val_loss: 0.7897 - val_acc: 0.7254\n",
            "Epoch 6/10\n",
            "50000/50000 [==============================] - 7s 140us/step - loss: 0.6103 - acc: 0.7878 - val_loss: 0.7642 - val_acc: 0.7396\n",
            "Epoch 7/10\n",
            "50000/50000 [==============================] - 7s 140us/step - loss: 0.5335 - acc: 0.8140 - val_loss: 0.8017 - val_acc: 0.7344\n",
            "Epoch 8/10\n",
            "50000/50000 [==============================] - 7s 140us/step - loss: 0.4740 - acc: 0.8350 - val_loss: 0.7830 - val_acc: 0.7409\n",
            "Epoch 9/10\n",
            "50000/50000 [==============================] - 7s 140us/step - loss: 0.4097 - acc: 0.8540 - val_loss: 0.7743 - val_acc: 0.7518\n",
            "Epoch 10/10\n",
            "50000/50000 [==============================] - 7s 140us/step - loss: 0.3473 - acc: 0.8781 - val_loss: 0.8224 - val_acc: 0.7404\n"
          ],
          "name": "stdout"
        }
      ]
    },
    {
      "metadata": {
        "id": "RPEdT88qcf84",
        "colab_type": "code",
        "outputId": "06dcabe7-8844-48b9-a848-49cfda8d8f76",
        "colab": {
          "base_uri": "https://localhost:8080/",
          "height": 799
        }
      },
      "cell_type": "code",
      "source": [
        "tf.keras.backend.clear_session()\n",
        "\n",
        "model = Sequential()\n",
        "\n",
        "model.add(Conv2D(32, (3, 3), strides=(1, 1), padding='same', activation='tanh', input_shape=input_shape))\n",
        "model.add(MaxPooling2D(pool_size=(2, 2)))\n",
        "#model.add(Dropout(0.25))\n",
        "model.add(Conv2D(64, (3, 3), strides=(1, 1), padding='same', activation='tanh'))\n",
        "model.add(MaxPooling2D(pool_size=(2, 2)))\n",
        "#model.add(Dropout(0.25))\n",
        "model.add(Conv2D(128, (3, 3), strides=(1, 1), padding='same', activation='tanh'))\n",
        "model.add(MaxPooling2D(pool_size=(2, 2)))\n",
        "#model.add(Dropout(0.25))\n",
        "model.add(Flatten())\n",
        "model.add(Dense(256, activation='tanh'))\n",
        "#model.add(Dropout(0.5))\n",
        "model.add(Dense(num_classes, activation='softmax'))\n",
        "\n",
        "model.summary()\n",
        "\n",
        "# Let's train the model using AdamOptimizer\n",
        "model.compile(optimizer=tf.train.AdamOptimizer(0.001),\n",
        "              loss='categorical_crossentropy',\n",
        "              metrics=['accuracy'])\n",
        "\n",
        "results_for_tanh = model.fit(x_train, y_train,\n",
        "                    batch_size=batch_size,\n",
        "                    epochs=epochs,\n",
        "                    validation_data=(x_test, y_test),\n",
        "                    shuffle=True)"
      ],
      "execution_count": 0,
      "outputs": [
        {
          "output_type": "stream",
          "text": [
            "_________________________________________________________________\n",
            "Layer (type)                 Output Shape              Param #   \n",
            "=================================================================\n",
            "conv2d (Conv2D)              (None, 32, 32, 32)        896       \n",
            "_________________________________________________________________\n",
            "max_pooling2d (MaxPooling2D) (None, 16, 16, 32)        0         \n",
            "_________________________________________________________________\n",
            "conv2d_1 (Conv2D)            (None, 16, 16, 64)        18496     \n",
            "_________________________________________________________________\n",
            "max_pooling2d_1 (MaxPooling2 (None, 8, 8, 64)          0         \n",
            "_________________________________________________________________\n",
            "conv2d_2 (Conv2D)            (None, 8, 8, 128)         73856     \n",
            "_________________________________________________________________\n",
            "max_pooling2d_2 (MaxPooling2 (None, 4, 4, 128)         0         \n",
            "_________________________________________________________________\n",
            "flatten (Flatten)            (None, 2048)              0         \n",
            "_________________________________________________________________\n",
            "dense (Dense)                (None, 256)               524544    \n",
            "_________________________________________________________________\n",
            "dense_1 (Dense)              (None, 10)                2570      \n",
            "=================================================================\n",
            "Total params: 620,362\n",
            "Trainable params: 620,362\n",
            "Non-trainable params: 0\n",
            "_________________________________________________________________\n",
            "Train on 50000 samples, validate on 10000 samples\n",
            "Epoch 1/10\n",
            "50000/50000 [==============================] - 7s 146us/step - loss: 1.3901 - acc: 0.5088 - val_loss: 1.0796 - val_acc: 0.6246\n",
            "Epoch 2/10\n",
            "50000/50000 [==============================] - 7s 141us/step - loss: 1.0053 - acc: 0.6499 - val_loss: 0.9324 - val_acc: 0.6788\n",
            "Epoch 3/10\n",
            "50000/50000 [==============================] - 7s 140us/step - loss: 0.8539 - acc: 0.7052 - val_loss: 0.8975 - val_acc: 0.6971\n",
            "Epoch 4/10\n",
            "50000/50000 [==============================] - 7s 140us/step - loss: 0.7267 - acc: 0.7502 - val_loss: 0.8643 - val_acc: 0.7027\n",
            "Epoch 5/10\n",
            "50000/50000 [==============================] - 7s 141us/step - loss: 0.6128 - acc: 0.7891 - val_loss: 0.8624 - val_acc: 0.7140\n",
            "Epoch 6/10\n",
            "50000/50000 [==============================] - 7s 141us/step - loss: 0.5105 - acc: 0.8240 - val_loss: 0.8496 - val_acc: 0.7224\n",
            "Epoch 7/10\n",
            "50000/50000 [==============================] - 7s 141us/step - loss: 0.3982 - acc: 0.8650 - val_loss: 0.8737 - val_acc: 0.7201\n",
            "Epoch 8/10\n",
            "50000/50000 [==============================] - 7s 140us/step - loss: 0.2969 - acc: 0.9029 - val_loss: 0.8996 - val_acc: 0.7257\n",
            "Epoch 9/10\n",
            "50000/50000 [==============================] - 7s 140us/step - loss: 0.2117 - acc: 0.9332 - val_loss: 0.9842 - val_acc: 0.7127\n",
            "Epoch 10/10\n",
            "50000/50000 [==============================] - 7s 141us/step - loss: 0.1453 - acc: 0.9590 - val_loss: 1.0112 - val_acc: 0.7300\n"
          ],
          "name": "stdout"
        }
      ]
    },
    {
      "metadata": {
        "id": "kfL5GZ83dOFW",
        "colab_type": "code",
        "outputId": "fe28bf84-bf93-484c-b6a1-ff5071e6a02c",
        "colab": {
          "base_uri": "https://localhost:8080/",
          "height": 799
        }
      },
      "cell_type": "code",
      "source": [
        "tf.keras.backend.clear_session()\n",
        "\n",
        "model = Sequential()\n",
        "\n",
        "model.add(Conv2D(32, (3, 3), strides=(1, 1), padding='same', activation='sigmoid', input_shape=input_shape))\n",
        "model.add(MaxPooling2D(pool_size=(2, 2)))\n",
        "#model.add(Dropout(0.25))\n",
        "model.add(Conv2D(64, (3, 3), strides=(1, 1), padding='same', activation='sigmoid'))\n",
        "model.add(MaxPooling2D(pool_size=(2, 2)))\n",
        "#model.add(Dropout(0.25))\n",
        "model.add(Conv2D(128, (3, 3), strides=(1, 1), padding='same', activation='sigmoid'))\n",
        "model.add(MaxPooling2D(pool_size=(2, 2)))\n",
        "#model.add(Dropout(0.25))\n",
        "model.add(Flatten())\n",
        "model.add(Dense(256, activation='sigmoid'))\n",
        "#model.add(Dropout(0.5))\n",
        "model.add(Dense(num_classes, activation='softmax'))\n",
        "\n",
        "model.summary()\n",
        "\n",
        "# Let's train the model using AdamOptimizer\n",
        "model.compile(optimizer=tf.train.AdamOptimizer(0.001),\n",
        "              loss='categorical_crossentropy',\n",
        "              metrics=['accuracy'])\n",
        "\n",
        "results_for_sigmoid = model.fit(x_train, y_train,\n",
        "                    batch_size=batch_size,\n",
        "                    epochs=epochs,\n",
        "                    validation_data=(x_test, y_test),\n",
        "                    shuffle=True)"
      ],
      "execution_count": 0,
      "outputs": [
        {
          "output_type": "stream",
          "text": [
            "_________________________________________________________________\n",
            "Layer (type)                 Output Shape              Param #   \n",
            "=================================================================\n",
            "conv2d (Conv2D)              (None, 32, 32, 32)        896       \n",
            "_________________________________________________________________\n",
            "max_pooling2d (MaxPooling2D) (None, 16, 16, 32)        0         \n",
            "_________________________________________________________________\n",
            "conv2d_1 (Conv2D)            (None, 16, 16, 64)        18496     \n",
            "_________________________________________________________________\n",
            "max_pooling2d_1 (MaxPooling2 (None, 8, 8, 64)          0         \n",
            "_________________________________________________________________\n",
            "conv2d_2 (Conv2D)            (None, 8, 8, 128)         73856     \n",
            "_________________________________________________________________\n",
            "max_pooling2d_2 (MaxPooling2 (None, 4, 4, 128)         0         \n",
            "_________________________________________________________________\n",
            "flatten (Flatten)            (None, 2048)              0         \n",
            "_________________________________________________________________\n",
            "dense (Dense)                (None, 256)               524544    \n",
            "_________________________________________________________________\n",
            "dense_1 (Dense)              (None, 10)                2570      \n",
            "=================================================================\n",
            "Total params: 620,362\n",
            "Trainable params: 620,362\n",
            "Non-trainable params: 0\n",
            "_________________________________________________________________\n",
            "Train on 50000 samples, validate on 10000 samples\n",
            "Epoch 1/10\n",
            "50000/50000 [==============================] - 7s 146us/step - loss: 2.2529 - acc: 0.1414 - val_loss: 2.0107 - val_acc: 0.2637\n",
            "Epoch 2/10\n",
            "50000/50000 [==============================] - 7s 140us/step - loss: 1.9336 - acc: 0.2945 - val_loss: 1.8147 - val_acc: 0.3449\n",
            "Epoch 3/10\n",
            "50000/50000 [==============================] - 7s 140us/step - loss: 1.7138 - acc: 0.3786 - val_loss: 1.5835 - val_acc: 0.4328\n",
            "Epoch 4/10\n",
            "50000/50000 [==============================] - 7s 140us/step - loss: 1.5266 - acc: 0.4522 - val_loss: 1.4740 - val_acc: 0.4733\n",
            "Epoch 5/10\n",
            "50000/50000 [==============================] - 7s 141us/step - loss: 1.4282 - acc: 0.4884 - val_loss: 1.3938 - val_acc: 0.5010\n",
            "Epoch 6/10\n",
            "50000/50000 [==============================] - 7s 140us/step - loss: 1.3610 - acc: 0.5158 - val_loss: 1.3531 - val_acc: 0.5151\n",
            "Epoch 7/10\n",
            "50000/50000 [==============================] - 7s 140us/step - loss: 1.3028 - acc: 0.5352 - val_loss: 1.2997 - val_acc: 0.5320\n",
            "Epoch 8/10\n",
            "50000/50000 [==============================] - 7s 140us/step - loss: 1.2469 - acc: 0.5573 - val_loss: 1.2767 - val_acc: 0.5502\n",
            "Epoch 9/10\n",
            "50000/50000 [==============================] - 7s 140us/step - loss: 1.1949 - acc: 0.5775 - val_loss: 1.2645 - val_acc: 0.5492\n",
            "Epoch 10/10\n",
            "50000/50000 [==============================] - 7s 140us/step - loss: 1.1510 - acc: 0.5932 - val_loss: 1.1995 - val_acc: 0.5772\n"
          ],
          "name": "stdout"
        }
      ]
    },
    {
      "metadata": {
        "id": "Ygwg_GETcOBx",
        "colab_type": "code",
        "outputId": "031767d9-d902-41dd-cc7c-a06426a7fe87",
        "colab": {
          "base_uri": "https://localhost:8080/",
          "height": 416
        }
      },
      "cell_type": "code",
      "source": [
        "# Accuracy for Validation (Test) Dataset\n",
        "plt_val_acc_relu = results_for_relu.history[\"val_acc\"]\n",
        "plt_val_acc_tanh = results_for_tanh.history[\"val_acc\"]\n",
        "plt_val_acc_sigmoid = results_for_sigmoid.history[\"val_acc\"]\n",
        "num_epochs = len(plt_val_acc_relu)\n",
        "plt_epoch = np.arange(1, num_epochs+1, 1, dtype=int)\n",
        "# Plot Accuracy\n",
        "plt.figure(1, figsize=(10, 6))\n",
        "plt.plot(plt_epoch, plt_val_acc_relu, color='c', linewidth=4, label='ReLU')\n",
        "plt.plot(plt_epoch, plt_val_acc_tanh, color='m', linewidth=4, label='Tanh')\n",
        "plt.plot(plt_epoch, plt_val_acc_sigmoid, color='g', linewidth=4, label='Sigmoid')\n",
        "plt.xlim(1, num_epochs)\n",
        "plt.xticks(plt_epoch)\n",
        "plt.title('Accuracy of Test Dataset for Different Activation Functions', fontsize=18)\n",
        "plt.legend(loc='best', fontsize=15)\n",
        "plt.xlabel(r'$Epochs$', fontsize=15)\n",
        "plt.ylabel(r'$Accuracy$', fontsize=15)\n",
        "plt.grid(True)\n",
        "plt.show()"
      ],
      "execution_count": 0,
      "outputs": [
        {
          "output_type": "display_data",
          "data": {
            "image/png": "[encoded data removed]",
            "text/plain": [
              "<matplotlib.figure.Figure at 0x7f2a6b7dad30>"
            ]
          },
          "metadata": {
            "tags": []
          }
        }
      ]
    }
  ]
}